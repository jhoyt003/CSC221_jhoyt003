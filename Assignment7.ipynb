{
  "nbformat": 4,
  "nbformat_minor": 0,
  "metadata": {
    "colab": {
      "provenance": [],
      "authorship_tag": "ABX9TyPbM7hGOjT/JuRHvjm9Il0t",
      "include_colab_link": true
    },
    "kernelspec": {
      "name": "python3",
      "display_name": "Python 3"
    },
    "language_info": {
      "name": "python"
    }
  },
  "cells": [
    {
      "cell_type": "markdown",
      "metadata": {
        "id": "view-in-github",
        "colab_type": "text"
      },
      "source": [
        "<a href=\"https://colab.research.google.com/github/jhoyt003/CSC221_jhoyt003/blob/main/Assignment7.ipynb\" target=\"_parent\"><img src=\"https://colab.research.google.com/assets/colab-badge.svg\" alt=\"Open In Colab\"/></a>"
      ]
    },
    {
      "cell_type": "code",
      "execution_count": 17,
      "metadata": {
        "colab": {
          "base_uri": "https://localhost:8080/"
        },
        "id": "Yc-TP-9zdqxA",
        "outputId": "b4efd1c7-a329-4da8-cb9c-3024bb6a2f14"
      },
      "outputs": [
        {
          "output_type": "stream",
          "name": "stdout",
          "text": [
            "First Name: Colby\n",
            "Last Name: Pedrick\n",
            "Age: 21\n",
            "City: Johnstown\n"
          ]
        }
      ],
      "source": [
        "#TIY 6-1\n",
        "\n",
        "personal_info = {\n",
        "    'first_name': 'Colby',\n",
        "    'last_name': 'Pedrick',\n",
        "    'age': '21',\n",
        "    'city': 'Johnstown',\n",
        "}\n",
        "\n",
        "print('First Name:',personal_info['first_name'])\n",
        "print('Last Name:',personal_info['last_name'])\n",
        "print('Age:',personal_info['age'])\n",
        "print('City:',personal_info['city'])"
      ]
    },
    {
      "cell_type": "code",
      "source": [
        "#TIY 6-2\n",
        "\n",
        "fav_nums = {\n",
        "    'Colby': '24',\n",
        "    'Zach': '5',\n",
        "    'Alec': '4',\n",
        "    'Jillian': '9',\n",
        "    'Angel': '21'\n",
        "}\n",
        "\n",
        "print(\"Colby's favorite number is:\", fav_nums['Colby'])\n",
        "print(\"Zach's favorite number is:\", fav_nums['Zach'])\n",
        "print(\"Alec's favorite number is:\", fav_nums['Alec'])\n",
        "print(\"Jillian's favorite number is:\", fav_nums['Jillian'])\n",
        "print(\"Angel's favorite number is:\", fav_nums['Angel'])"
      ],
      "metadata": {
        "colab": {
          "base_uri": "https://localhost:8080/"
        },
        "id": "bQpPeHNqlTAR",
        "outputId": "fa77f905-3aa2-46e0-9c67-d9752b09a8f6"
      },
      "execution_count": 30,
      "outputs": [
        {
          "output_type": "stream",
          "name": "stdout",
          "text": [
            "Colby's favorite number is: 24\n",
            "Zach's favorite number is: 5\n",
            "Alec's favorite number is: 4\n",
            "Jillian's favorite number is: 9\n",
            "Angel's favorite number is: 21\n"
          ]
        }
      ]
    },
    {
      "cell_type": "code",
      "source": [
        "#TIY 6-3\n",
        "\n",
        "program_glossary = {\n",
        "    'dictonary': 'A collection of a pair of items that go together, such as a name then age',\n",
        "    'variable': 'Something you can store an item as a certain word or phrase, such as x = 11, or apple = 12',\n",
        "    'list': 'A group of items that usually have something in common, such as names or fruits',\n",
        "    'loop': 'A set of instructions that repeats code until a condition is not met',\n",
        "    'function': 'Something that performs a certain talk that you tell it to',\n",
        "}\n",
        "\n",
        "print(\"A dictonary is:\", program_glossary['dictonary'])\n",
        "print(\"A variable is:\", program_glossary['variable'])\n",
        "print(\"A list is:\", program_glossary['list'])\n",
        "print(\"A loop is:\", program_glossary['loop'])\n",
        "print(\"A function is:\", program_glossary['function'])\n",
        "\n"
      ],
      "metadata": {
        "colab": {
          "base_uri": "https://localhost:8080/"
        },
        "id": "Qw51e-6Cla6N",
        "outputId": "b543f77e-859f-44e1-fce8-3e01d36e2d66"
      },
      "execution_count": 43,
      "outputs": [
        {
          "output_type": "stream",
          "name": "stdout",
          "text": [
            "A dictonary is: A collection of a pair of items that go together, such as a name then age\n",
            "A variable is: Something you can store an item as a certain word or phrase, such as x = 11, or apple = 12\n",
            "A list is: A group of items that usually have something in common, such as names or fruits\n",
            "A loop is: A set of instructions that repeats code until a condition is not met\n",
            "A function is: Something that performs a certain talk that you tell it to\n"
          ]
        }
      ]
    },
    {
      "cell_type": "code",
      "source": [
        "#TIY 6-4\n",
        "\n",
        "program_glossary = {\n",
        "    'dictonary': 'A collection of a pair of items that go together, such as a name then age',\n",
        "    'variable': 'Something you can store an item as a certain word or phrase, such as x = 11, or apple = 12',\n",
        "    'list': 'A group of items that usually have something in common, such as names or fruits',\n",
        "    'loop': 'A set of instructions that repeats code until a condition is not met',\n",
        "    'function': 'Something that performs a certain talk that you tell it to',\n",
        "}\n",
        "\n",
        "for word, meaning in program_glossary.items():\n",
        "  print(f'\\n{word}:\\n{meaning}')\n",
        "\n",
        "more_terms = {\n",
        "    'string': 'Characters that represent words or text',\n",
        "    'slice': 'Extract a portion of a planned event',\n",
        "    'index': 'The loction of an element in a list or string',\n",
        "    'conditional statment': 'Allows you to make decisions based on your code, typically involves if statement',\n",
        "    'comment': 'Allows you to describe your code to someone else reading it, without messing it up',\n",
        "\n",
        "}\n",
        "\n",
        "print(\"\\n\\nGlossary updated:\\n\")\n",
        "\n",
        "program_glossary.update(more_terms)\n",
        "\n",
        "for word, meaning in program_glossary.items():\n",
        "  print(f'\\n{word}:\\n{meaning}\\n')"
      ],
      "metadata": {
        "colab": {
          "base_uri": "https://localhost:8080/"
        },
        "id": "JXDNAURdoFSn",
        "outputId": "582748ca-12f8-419f-b823-1e671817a0af"
      },
      "execution_count": 51,
      "outputs": [
        {
          "output_type": "stream",
          "name": "stdout",
          "text": [
            "\n",
            "dictonary:\n",
            "A collection of a pair of items that go together, such as a name then age\n",
            "\n",
            "variable:\n",
            "Something you can store an item as a certain word or phrase, such as x = 11, or apple = 12\n",
            "\n",
            "list:\n",
            "A group of items that usually have something in common, such as names or fruits\n",
            "\n",
            "loop:\n",
            "A set of instructions that repeats code until a condition is not met\n",
            "\n",
            "function:\n",
            "Something that performs a certain talk that you tell it to\n",
            "\n",
            "\n",
            "Glossary updated:\n",
            "\n",
            "\n",
            "dictonary:\n",
            "A collection of a pair of items that go together, such as a name then age\n",
            "\n",
            "\n",
            "variable:\n",
            "Something you can store an item as a certain word or phrase, such as x = 11, or apple = 12\n",
            "\n",
            "\n",
            "list:\n",
            "A group of items that usually have something in common, such as names or fruits\n",
            "\n",
            "\n",
            "loop:\n",
            "A set of instructions that repeats code until a condition is not met\n",
            "\n",
            "\n",
            "function:\n",
            "Something that performs a certain talk that you tell it to\n",
            "\n",
            "\n",
            "string:\n",
            "Characters that represent words or text\n",
            "\n",
            "\n",
            "slice:\n",
            "Extract a portion of a planned event\n",
            "\n",
            "\n",
            "index:\n",
            "The loction of an element in a list or string\n",
            "\n",
            "\n",
            "conditional statment:\n",
            "Allows you to make decisions based on your code, typically involves if statement\n",
            "\n",
            "\n",
            "comment:\n",
            "Allows you to describe your code to someone else reading it, without messing it up\n",
            "\n"
          ]
        }
      ]
    },
    {
      "cell_type": "markdown",
      "source": [],
      "metadata": {
        "id": "IsOSvAzDguOh"
      }
    },
    {
      "cell_type": "code",
      "source": [
        "#TIY 6-11\n",
        "\n",
        "\n",
        "cities = {\n",
        "    'San Francisco': {\n",
        "        'country':'United States',\n",
        "        'population': '3,343,000',\n",
        "        'fact': 'This is the biggest city for technology in the world.'\n",
        "    },\n",
        "    'New York City': {\n",
        "        'country': 'United States',\n",
        "        'population': '8,800,000',\n",
        "        'fact': 'I will be living here in Manhattan once I graduate.'\n",
        "    },\n",
        "    'Boca Raton': {\n",
        "        'country': 'United States',\n",
        "        'population': '97,000',\n",
        "        'fact': 'I have been there a few times, and the weather is amazing.'\n",
        "    }\n",
        "}\n",
        "\n",
        "\n",
        "for city, info in cities.items():\n",
        "    print(f\"\\nCity: {city}\")\n",
        "    print(f\"Country: {info['country']}\")\n",
        "    print(f\"Population: {info['population']}\")\n",
        "    print(f\"Fact: {info['fact']}\")\n"
      ],
      "metadata": {
        "colab": {
          "base_uri": "https://localhost:8080/"
        },
        "id": "5zVvtRU4sNRo",
        "outputId": "bcec50ac-3755-4613-fdaf-da38f69746f7"
      },
      "execution_count": 52,
      "outputs": [
        {
          "output_type": "stream",
          "name": "stdout",
          "text": [
            "\n",
            "City: San Francisco\n",
            "Country: United States\n",
            "Population: 3,343,000\n",
            "Fact: This is the biggest city for technology in the world.\n",
            "\n",
            "City: New York City\n",
            "Country: United States\n",
            "Population: 8,800,000\n",
            "Fact: I will be living here in Manhattan once I graduate.\n",
            "\n",
            "City: Boca Raton\n",
            "Country: United States\n",
            "Population: 97,000\n",
            "Fact: I have been there a few times, and the weather is amazing.\n"
          ]
        }
      ]
    }
  ]
}