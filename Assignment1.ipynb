{
  "nbformat": 4,
  "nbformat_minor": 0,
  "metadata": {
    "colab": {
      "provenance": []
    },
    "kernelspec": {
      "name": "python3",
      "display_name": "Python 3"
    },
    "language_info": {
      "name": "python"
    }
  },
  "cells": [
    {
      "cell_type": "code",
      "execution_count": 1,
      "metadata": {
        "colab": {
          "base_uri": "https://localhost:8080/"
        },
        "id": "64DvN9bW8BX0",
        "outputId": "0fa6c1bf-1ddb-4f84-8be8-e9cf31d6ac08"
      },
      "outputs": [
        {
          "output_type": "stream",
          "name": "stdout",
          "text": [
            "51 50\n",
            "52 101\n",
            "53 153\n",
            "54 206\n",
            "55 260\n",
            "56 315\n",
            "57 371\n",
            "58 428\n",
            "59 486\n",
            "244125\n"
          ]
        }
      ],
      "source": [
        "#add all numbers from 50-700\n",
        "\n",
        "total = 0\n",
        "\n",
        "n = 50\n",
        "\n",
        "while n <= 700:\n",
        "  total = total + n\n",
        "  n = n + 1\n",
        "  if n < 60:\n",
        "    print(n, total)\n",
        "\n",
        "\n",
        "print(total)\n"
      ]
    }
  ]
}