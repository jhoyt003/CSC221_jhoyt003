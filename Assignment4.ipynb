{
  "nbformat": 4,
  "nbformat_minor": 0,
  "metadata": {
    "colab": {
      "provenance": []
    },
    "kernelspec": {
      "name": "python3",
      "display_name": "Python 3"
    },
    "language_info": {
      "name": "python"
    }
  },
  "cells": [
    {
      "cell_type": "code",
      "execution_count": 2,
      "metadata": {
        "colab": {
          "base_uri": "https://localhost:8080/"
        },
        "id": "ad8A6-z6uL8F",
        "outputId": "fe44fec4-525a-4fdd-c583-34b1becec55c"
      },
      "outputs": [
        {
          "output_type": "stream",
          "name": "stdout",
          "text": [
            "Zach\n",
            "Ryan\n",
            "John\n",
            "Aidan\n"
          ]
        }
      ],
      "source": [
        "#3-1\n",
        "names = ['Zach', 'Ryan', 'John', 'Aidan']\n",
        "\n",
        "print(names[0])\n",
        "print(names[1])\n",
        "print(names[2])\n",
        "print(names[3])\n"
      ]
    },
    {
      "cell_type": "code",
      "source": [
        "#3-2\n",
        "names = ['Zach', 'Ryan', 'John', 'Aidan']\n",
        "\n",
        "message = f\"Hi {names[0]}\"\n",
        "print(message)\n",
        "\n",
        "message2 = f\"How was your day {names[1]}?\"\n",
        "print(message2)\n",
        "\n",
        "message3 = f\"{names[2]}, want to go to downer later?\"\n",
        "print(message3)\n",
        "\n",
        "message4 = f\"Hey {names[3]}, want to go to the gym after class?\"\n",
        "print(message4)"
      ],
      "metadata": {
        "colab": {
          "base_uri": "https://localhost:8080/"
        },
        "id": "JbCgOCEWvgjZ",
        "outputId": "2179b4b6-a3dd-4f78-d454-32a3e9e56639"
      },
      "execution_count": 17,
      "outputs": [
        {
          "output_type": "stream",
          "name": "stdout",
          "text": [
            "Hi Zach\n",
            "How was your day Ryan?\n",
            "John, want to go to downer later?\n",
            "Hey Aidan, want to go to the gym after class?\n"
          ]
        }
      ]
    },
    {
      "cell_type": "code",
      "source": [
        "#3-3\n",
        "cars = ['BMW', 'Rolls Royce', 'Mercury LS Sable', 'Lexus', 'Audis']\n",
        "\n",
        "message = f\"The first car that I owned and purchased at 16 was a {cars[2]}.\"\n",
        "print(message)\n",
        "\n",
        "message2 = f\"My dream car is a {cars[1]}.\"\n",
        "print(message2)\n",
        "\n",
        "message3 = f\"Fun fact, I have had 2 different types of {cars[4]}, and my favorite was my 2004 A6 2.7tt.\"\n",
        "print(message3)"
      ],
      "metadata": {
        "colab": {
          "base_uri": "https://localhost:8080/"
        },
        "id": "48D_KYnbx7Xe",
        "outputId": "6b083d9d-099f-4872-a7e1-366717c1decb"
      },
      "execution_count": 27,
      "outputs": [
        {
          "output_type": "stream",
          "name": "stdout",
          "text": [
            "The first car that I owned and purchased at 16 was a Mercury LS Sable.\n",
            "My dream car is a Rolls Royce.\n",
            "Fun fact, I have had 2 different types of Audis, and my favorite was my 2004 A6 2.7tt.\n"
          ]
        }
      ]
    },
    {
      "cell_type": "code",
      "source": [
        "#3-4\n",
        "dinner_list = ['Michael Jordan', 'Jon Jones', 'Zach Bryan']\n",
        "\n",
        "message = f'Hey {dinner_list[0]}, I really think you are one of the most influential people in the game of basketball, come to dinner with me and some others'\n",
        "print(message)\n",
        "\n",
        "message1 = f'{dinner_list[1]}, want to come to dinner with me and {dinner_list[0]}, he thinks he can take you in UFC?'\n",
        "print(message1)\n",
        "\n",
        "message2 = f'{dinner_list[2]}, I do not listen to that much country music but thanks for getting me into it. Come to this dinner ther are some big names coming'\n",
        "print(message2)"
      ],
      "metadata": {
        "colab": {
          "base_uri": "https://localhost:8080/"
        },
        "id": "akh4gWW70XnX",
        "outputId": "686ff8cb-ca06-40ac-b097-1ae8f923a589"
      },
      "execution_count": 40,
      "outputs": [
        {
          "output_type": "stream",
          "name": "stdout",
          "text": [
            "Hey Michael Jordan, I really think you are one of the most influential people in the game of basketball, come to dinner with me and some others\n",
            "Jon Jones, want to come to dinner with me and Michael Jordan, he thinks he can take you in UFC?\n",
            "Zach Bryan, I do not listen to that much country music but thanks for getting me into it. Come to this dinner ther are some big names coming\n"
          ]
        }
      ]
    },
    {
      "cell_type": "code",
      "source": [
        "#3-5\n",
        "dinner_list = ['Michael Jordan', 'Jon Jones', 'Zach Bryan']\n",
        "\n",
        "message = f'Hey {dinner_list[0]}, I really think you are one of the most influential people in the game of basketball, come to dinner with me and some others'\n",
        "print(message)\n",
        "\n",
        "message1 = f'{dinner_list[1]}, want to come to dinner with me and {dinner_list[0]}, he thinks he can take you in UFC?'\n",
        "print(message1)\n",
        "\n",
        "message2 = f'{dinner_list[2]}, I do not listen to that much country music but thanks for getting me into it. Come to this dinner ther are some big names coming\\n'\n",
        "print(message2)\n",
        "\n",
        "print(dinner_list[1])\n",
        "\n",
        "del dinner_list[1]\n",
        "print(dinner_list)\n",
        "\n",
        "dinner_list.insert(0, 'Connor McGreggor')\n",
        "print(dinner_list)\n",
        "\n",
        "message = f'\\nHey {dinner_list[0]}, want to come to dinner with me and a few others, well drink some of your favorite, Jameson?'\n",
        "print(message)\n",
        "\n",
        "message1 = f'Hey me again, how are you {dinner_list[1]}? Sorry to have to reschedule but we are going to shoot for tomorrow at 8.'\n",
        "print(message1)\n",
        "\n",
        "message2 = f'Hey my man {dinner_list[2]}, had to reschedule for tomorrow at 8. Let me know if you can come'\n",
        "print(message2)\n"
      ],
      "metadata": {
        "colab": {
          "base_uri": "https://localhost:8080/"
        },
        "id": "-_vqdxbS4JoH",
        "outputId": "67f4319b-ff52-4f9b-ecae-0f643598105e"
      },
      "execution_count": 67,
      "outputs": [
        {
          "output_type": "stream",
          "name": "stdout",
          "text": [
            "Hey Michael Jordan, I really think you are one of the most influential people in the game of basketball, come to dinner with me and some others\n",
            "Jon Jones, want to come to dinner with me and Michael Jordan, he thinks he can take you in UFC?\n",
            "Zach Bryan, I do not listen to that much country music but thanks for getting me into it. Come to this dinner ther are some big names coming\n",
            "\n",
            "Jon Jones\n",
            "['Michael Jordan', 'Zach Bryan']\n",
            "['Connor McGreggor', 'Michael Jordan', 'Zach Bryan']\n",
            "\n",
            "Hey Connor McGreggor, want to come to dinner with me and a few others, well drink some of your favorite, Jameson?\n",
            "Hey me again, how are you Michael Jordan? Sorry to have to reschedule but we are going to shoot for tomorrow at 8.\n",
            "Hey my man Zach Bryan, had to reschedule for tomorrow at 8. Let me know if you can come\n"
          ]
        }
      ]
    },
    {
      "cell_type": "code",
      "source": [
        "#3-6\n",
        "dinner_list = ['Michael Jordan', 'Jon Jones', 'Zach Bryan']\n",
        "\n",
        "message = f'Hey {dinner_list[0]}, I really think you are one of the most influential people in the game of basketball, come to dinner with me and some others'\n",
        "print(message)\n",
        "\n",
        "message1 = f'{dinner_list[1]}, want to come to dinner with me and {dinner_list[0]}, he thinks he can take you in UFC?'\n",
        "print(message1)\n",
        "\n",
        "message2 = f'{dinner_list[2]}, I do not listen to that much country music but thanks for getting me into it. Come to this dinner ther are some big names coming\\n'\n",
        "print(message2)\n",
        "\n",
        "print(dinner_list[1])\n",
        "\n",
        "del dinner_list[1]\n",
        "print(dinner_list)\n",
        "\n",
        "dinner_list.insert(0, 'Connor McGreggor')\n",
        "print(dinner_list)\n",
        "\n",
        "message = f'\\nHey {dinner_list[0]}, want to come to dinner with me and a few others, well drink some of your favorite, Jameson?'\n",
        "print(message)\n",
        "\n",
        "message1 = f'Hey me again, how are you {dinner_list[1]}? Sorry to have to reschedule but we are going to shoot for tomorrow at 8.'\n",
        "print(message1)\n",
        "\n",
        "message2 = f'Hey my man {dinner_list[2]}, had to reschedule for tomorrow at 8. Let me know if you can come\\n'\n",
        "print(message2)\n",
        "\n",
        "print('Hey guys I found a bigger table, looks like we are going to have a few more guests.')\n",
        "\n",
        "dinner_list.insert(0, 'Allen Iverson')\n",
        "dinner_list.insert(2, 'Albert Einstein')\n",
        "dinner_list.append('Abe Lincoln')\n",
        "print(dinner_list)\n",
        "\n",
        "message = f'\\n{dinner_list[0]}, dinner Thursday at 8, we will talk about that signature crossover?'\n",
        "print(message)\n",
        "\n",
        "message1 =  f'Hey me again, how are you {dinner_list[1]}? Sorry to have to reschedule again but we are going to do 8 on Thursday.'\n",
        "print(message1)\n",
        "\n",
        "message2 = f'Hey man {dinner_list[2]}, had to reschedule again for tomorrow at 8 because of some personal issues.'\n",
        "print(message2)\n",
        "\n",
        "message3 = f'{dinner_list[3]}, come by Thursday at 8 instead.'\n",
        "print(message3)\n",
        "\n",
        "message4 = f'Hey cannot wait to finally meet you {dinner_list[4]}. Had to move it back for Thursday at 8.'\n",
        "print(message4)\n",
        "\n",
        "message5 = f'{dinner_list[5]}, cnnot wait to hopefully meet the best President. Thursday drinks at 8?'\n",
        "print(message5)"
      ],
      "metadata": {
        "colab": {
          "base_uri": "https://localhost:8080/"
        },
        "id": "Ka2zV7vk84ti",
        "outputId": "260c358e-373b-4fff-970d-019bd7c2e6ac"
      },
      "execution_count": 89,
      "outputs": [
        {
          "output_type": "stream",
          "name": "stdout",
          "text": [
            "Hey Michael Jordan, I really think you are one of the most influential people in the game of basketball, come to dinner with me and some others\n",
            "Jon Jones, want to come to dinner with me and Michael Jordan, he thinks he can take you in UFC?\n",
            "Zach Bryan, I do not listen to that much country music but thanks for getting me into it. Come to this dinner ther are some big names coming\n",
            "\n",
            "Jon Jones\n",
            "['Michael Jordan', 'Zach Bryan']\n",
            "['Connor McGreggor', 'Michael Jordan', 'Zach Bryan']\n",
            "\n",
            "Hey Connor McGreggor, want to come to dinner with me and a few others, well drink some of your favorite, Jameson?\n",
            "Hey me again, how are you Michael Jordan? Sorry to have to reschedule but we are going to shoot for tomorrow at 8.\n",
            "Hey my man Zach Bryan, had to reschedule for tomorrow at 8. Let me know if you can come\n",
            "\n",
            "Hey guys I found a bigger table, looks like we are going to have a few more guests.\n",
            "['Allen Iverson', 'Connor McGreggor', 'Albert Einstein', 'Michael Jordan', 'Zach Bryan', 'Abe Lincoln']\n",
            "\n",
            "Allen Iverson, dinner Thursday at 8, we will talk about that signature crossover?\n",
            "Hey me again, how are you Connor McGreggor? Sorry to have to reschedule again but we are going to do 8 on Thursday.\n",
            "Hey man Albert Einstein, had to reschedule again for tomorrow at 8 because of some personal issues.\n",
            "Michael Jordan, come by Thursday at 8 instead.\n",
            "Hey cannot wait to finally meet you Zach Bryan. Had to move it back for Thursday at 8.\n",
            "Abe Lincoln, cnnot wait to hopefully meet the best President. Thursday drinks at 8?\n"
          ]
        }
      ]
    },
    {
      "cell_type": "markdown",
      "source": [],
      "metadata": {
        "id": "ikPRTNL-2JpQ"
      }
    },
    {
      "cell_type": "code",
      "source": [
        "#3-7\n",
        "dinner_list = ['Michael Jordan', 'Jon Jones', 'Zach Bryan']\n",
        "\n",
        "message = f'Hey {dinner_list[0]}, I really think you are one of the most influential people in the game of basketball, come to dinner with me and some others'\n",
        "print(message)\n",
        "\n",
        "message1 = f'{dinner_list[1]}, want to come to dinner with me and {dinner_list[0]}, he thinks he can take you in UFC?'\n",
        "print(message1)\n",
        "\n",
        "message2 = f'{dinner_list[2]}, I do not listen to that much country music but thanks for getting me into it. Come to this dinner ther are some big names coming\\n'\n",
        "print(message2)\n",
        "\n",
        "print(dinner_list[1])\n",
        "\n",
        "del dinner_list[1]\n",
        "print(dinner_list)\n",
        "\n",
        "dinner_list.insert(0, 'Connor McGreggor')\n",
        "print(dinner_list)\n",
        "\n",
        "message = f'\\nHey {dinner_list[0]}, want to come to dinner with me and a few others, well drink some of your favorite, Jameson?'\n",
        "print(message)\n",
        "\n",
        "message1 = f'Hey me again, how are you {dinner_list[1]}? Sorry to have to reschedule but we are going to shoot for tomorrow at 8.'\n",
        "print(message1)\n",
        "\n",
        "message2 = f'Hey my man {dinner_list[2]}, had to reschedule for tomorrow at 8. Let me know if you can come\\n'\n",
        "print(message2)\n",
        "\n",
        "print('Hey guys I found a bigger table, looks like we are going to have a few more guests.')\n",
        "\n",
        "dinner_list.insert(0, 'Allen Iverson')\n",
        "dinner_list.insert(2, 'Albert Einstein')\n",
        "dinner_list.append('Abe Lincoln')\n",
        "print(dinner_list)\n",
        "\n",
        "message = f'\\n{dinner_list[0]}, dinner Thursday at 8, we will talk about that signature crossover?'\n",
        "print(message)\n",
        "\n",
        "message1 =  f'Hey me again, how are you {dinner_list[1]}? Sorry to have to reschedule again but we are going to do 8 on Thursday.'\n",
        "print(message1)\n",
        "\n",
        "message2 = f'Hey man {dinner_list[2]}, had to reschedule again for tomorrow at 8 because of some personal issues.'\n",
        "print(message2)\n",
        "\n",
        "message3 = f'{dinner_list[3]}, come by Thursday at 8 instead.'\n",
        "print(message3)\n",
        "\n",
        "message4 = f'Hey cannot wait to finally meet you {dinner_list[4]}. Had to move it back for Thursday at 8.'\n",
        "print(message4)\n",
        "\n",
        "message5 = f'{dinner_list[5]}, cnnot wait to hopefully meet the best President. Thursday drinks at 8?\\n'\n",
        "print(message5)\n",
        "\n",
        "\n",
        "\n",
        "print('I am terribly sorry, but unfortunatley, I can only bring 2 guests to this dinner.')\n",
        "\n",
        "\n",
        "dinner_list.pop(5)\n",
        "print('I am very sorry that you cannot come because our selections were low, Meet up sometime soon?')\n",
        "print(dinner_list)\n",
        "dinner_list.pop(4)\n",
        "print('Sorry Zach, you will not be able to come to this dinner')\n",
        "dinner_list.pop(2)\n",
        "print('Do not have enough room at the table anymore will need to reschedule with you.')\n",
        "dinner_list.pop(1)\n",
        "print('Connor, we will not be seeing each other on Thursday because the restaurant messed up.')\n",
        "print(dinner_list)\n",
        "\n",
        "del dinner_list[1]\n",
        "print(dinner_list)\n",
        "del dinner_list[0]\n",
        "print(dinner_list)\n",
        "\n",
        "\n"
      ],
      "metadata": {
        "colab": {
          "base_uri": "https://localhost:8080/"
        },
        "id": "V-VLnvLH2ENr",
        "outputId": "63c2b8f9-3248-4001-8ae8-5d32962a5ad4"
      },
      "execution_count": 100,
      "outputs": [
        {
          "output_type": "stream",
          "name": "stdout",
          "text": [
            "Hey Michael Jordan, I really think you are one of the most influential people in the game of basketball, come to dinner with me and some others\n",
            "Jon Jones, want to come to dinner with me and Michael Jordan, he thinks he can take you in UFC?\n",
            "Zach Bryan, I do not listen to that much country music but thanks for getting me into it. Come to this dinner ther are some big names coming\n",
            "\n",
            "Jon Jones\n",
            "['Michael Jordan', 'Zach Bryan']\n",
            "['Connor McGreggor', 'Michael Jordan', 'Zach Bryan']\n",
            "\n",
            "Hey Connor McGreggor, want to come to dinner with me and a few others, well drink some of your favorite, Jameson?\n",
            "Hey me again, how are you Michael Jordan? Sorry to have to reschedule but we are going to shoot for tomorrow at 8.\n",
            "Hey my man Zach Bryan, had to reschedule for tomorrow at 8. Let me know if you can come\n",
            "\n",
            "Hey guys I found a bigger table, looks like we are going to have a few more guests.\n",
            "['Allen Iverson', 'Connor McGreggor', 'Albert Einstein', 'Michael Jordan', 'Zach Bryan', 'Abe Lincoln']\n",
            "\n",
            "Allen Iverson, dinner Thursday at 8, we will talk about that signature crossover?\n",
            "Hey me again, how are you Connor McGreggor? Sorry to have to reschedule again but we are going to do 8 on Thursday.\n",
            "Hey man Albert Einstein, had to reschedule again for tomorrow at 8 because of some personal issues.\n",
            "Michael Jordan, come by Thursday at 8 instead.\n",
            "Hey cannot wait to finally meet you Zach Bryan. Had to move it back for Thursday at 8.\n",
            "Abe Lincoln, cnnot wait to hopefully meet the best President. Thursday drinks at 8?\n",
            "\n",
            "I am terribly sorry, but unfortunatley, I can only bring 2 guests to this dinner.\n",
            "I am very sorry that you cannot come because our selections were low, Meet up sometime soon?\n",
            "['Allen Iverson', 'Connor McGreggor', 'Albert Einstein', 'Michael Jordan', 'Zach Bryan']\n",
            "Sorry Zach, you will not be able to come to this dinner\n",
            "Do not have enough room at the table anymore will need to reschedule with you.\n",
            "Connor, we will not be seeing each other on Thursday because the restaurant messed up.\n",
            "['Allen Iverson', 'Michael Jordan']\n",
            "['Allen Iverson']\n",
            "[]\n"
          ]
        }
      ]
    },
    {
      "cell_type": "code",
      "source": [
        "#3-8\n",
        "vacation_list = ['Bahamas', 'Italy', 'Turks and Caicos', 'Jamacia', 'Alaska']\n",
        "print(vacation_list)\n",
        "print(sorted(vacation_list))\n",
        "print(vacation_list)\n",
        "\n",
        "sorted_vaca = sorted(vacation_list, reverse = True)\n",
        "print(sorted_vaca)\n",
        "print(vacation_list)\n",
        "\n",
        "vacation_list.sort(reverse = True)\n",
        "reversed_vacation_list = sorted(vacation_list, reverse = True)\n",
        "print(vacation_list)\n",
        "\n",
        "vacation_list.reverse()\n",
        "vacation_list[0] = 'Bahamas'\n",
        "vacation_list[1] = 'Italy'\n",
        "vacation_list[2] = 'Turks and Cacios'\n",
        "vacation_list[4] = 'Alaska'\n",
        "print(vacation_list)\n",
        "\n",
        "vacation_list.sort()\n",
        "print(vacation_list)\n",
        "\n",
        "vacation_list.reverse()\n",
        "print(vacation_list)"
      ],
      "metadata": {
        "colab": {
          "base_uri": "https://localhost:8080/"
        },
        "id": "p3O_h38dNbEc",
        "outputId": "7dfe20f0-e532-4fc8-bdbb-c4b3cce0b97b"
      },
      "execution_count": 30,
      "outputs": [
        {
          "output_type": "stream",
          "name": "stdout",
          "text": [
            "['Bahamas', 'Italy', 'Turks and Caicos', 'Jamacia', 'Alaska']\n",
            "['Alaska', 'Bahamas', 'Italy', 'Jamacia', 'Turks and Caicos']\n",
            "['Bahamas', 'Italy', 'Turks and Caicos', 'Jamacia', 'Alaska']\n",
            "['Turks and Caicos', 'Jamacia', 'Italy', 'Bahamas', 'Alaska']\n",
            "['Bahamas', 'Italy', 'Turks and Caicos', 'Jamacia', 'Alaska']\n",
            "['Turks and Caicos', 'Jamacia', 'Italy', 'Bahamas', 'Alaska']\n",
            "['Bahamas', 'Italy', 'Turks and Cacios', 'Jamacia', 'Alaska']\n",
            "['Alaska', 'Bahamas', 'Italy', 'Jamacia', 'Turks and Cacios']\n",
            "['Turks and Cacios', 'Jamacia', 'Italy', 'Bahamas', 'Alaska']\n"
          ]
        }
      ]
    },
    {
      "cell_type": "code",
      "source": [
        "#3-9// From 3-7\n",
        "dinner_list = ['Allen Iverson', 'Michael Jordan']\n",
        "len(dinner_list)\n"
      ],
      "metadata": {
        "colab": {
          "base_uri": "https://localhost:8080/"
        },
        "id": "7ZVaaQpnjz2I",
        "outputId": "f6bf6beb-7b32-4d94-c2dc-301efb4e7346"
      },
      "execution_count": 3,
      "outputs": [
        {
          "output_type": "execute_result",
          "data": {
            "text/plain": [
              "2"
            ]
          },
          "metadata": {},
          "execution_count": 3
        }
      ]
    },
    {
      "cell_type": "code",
      "source": [
        "#3-10\n",
        "shoe_brands = ['nike', 'adidas', 'puma', 'new Balance', 'Under Armuor']\n",
        "\n",
        "\n",
        "shoe_brands.insert(0, 'sketchers')\n",
        "print(shoe_brands)\n",
        "\n",
        "shoe_brands.append('acics')\n",
        "\n",
        "shoe_brands.sort()\n",
        "print(shoe_brands)\n",
        "\n",
        "shoe_brands.reverse()\n",
        "print(shoe_brands)\n",
        "\n",
        "length_of_list = len(shoe_brands)\n",
        "print(length_of_list)\n",
        "\n",
        "shoe_brands.remove('puma')\n",
        "print(shoe_brands)\n",
        "\n",
        "shoe_brands.pop()\n",
        "print(shoe_brands)\n",
        "\n",
        "shoe_brands.pop(0)\n",
        "print(shoe_brands)\n",
        "\n",
        "del shoe_brands[0]\n",
        "print(shoe_brands)\n",
        "\n",
        "shoe_brands[0] = 'reebok'\n",
        "print(shoe_brands)\n",
        "\n",
        "message = f'My favoite pairs of shoes are from {shoe_brands[2]}. They are very comfortable to wear while doing just about anything.'\n",
        "print(message)\n",
        "\n",
        "print(shoe_brands[0].title())\n",
        "print(shoe_brands[-1].title())\n",
        "print(shoe_brands[2].title())"
      ],
      "metadata": {
        "colab": {
          "base_uri": "https://localhost:8080/"
        },
        "id": "o0F35GOqmJF7",
        "outputId": "02258f82-0fb9-46a6-f13c-be3a01aba6f4"
      },
      "execution_count": 28,
      "outputs": [
        {
          "output_type": "stream",
          "name": "stdout",
          "text": [
            "['sketchers', 'nike', 'adidas', 'puma', 'new Balance', 'Under Armuor']\n",
            "['Under Armuor', 'acics', 'adidas', 'new Balance', 'nike', 'puma', 'sketchers']\n",
            "['sketchers', 'puma', 'nike', 'new Balance', 'adidas', 'acics', 'Under Armuor']\n",
            "7\n",
            "['sketchers', 'nike', 'new Balance', 'adidas', 'acics', 'Under Armuor']\n",
            "['sketchers', 'nike', 'new Balance', 'adidas', 'acics']\n",
            "['nike', 'new Balance', 'adidas', 'acics']\n",
            "['new Balance', 'adidas', 'acics']\n",
            "['reebok', 'adidas', 'acics']\n",
            "My favoite pairs of shoes are from acics. They are very comfortable to wear while doing just about anything.\n",
            "Reebok\n",
            "Acics\n",
            "Acics\n"
          ]
        }
      ]
    },
    {
      "cell_type": "code",
      "source": [
        "#3-11 program with index error\n",
        "\n",
        "shoe_brands = ['nike', 'adidas', 'puma', 'new Balance', 'Under Armuor']\n",
        "print(shoe_brands[5])\n"
      ],
      "metadata": {
        "colab": {
          "base_uri": "https://localhost:8080/",
          "height": 176
        },
        "id": "vxCy9QKwTvqv",
        "outputId": "d71a50f7-6249-410d-b47b-e61b9f447a94"
      },
      "execution_count": 29,
      "outputs": [
        {
          "output_type": "error",
          "ename": "IndexError",
          "evalue": "list index out of range",
          "traceback": [
            "\u001b[0;31m---------------------------------------------------------------------------\u001b[0m",
            "\u001b[0;31mIndexError\u001b[0m                                Traceback (most recent call last)",
            "\u001b[0;32m<ipython-input-29-187d9c3ac104>\u001b[0m in \u001b[0;36m<cell line: 4>\u001b[0;34m()\u001b[0m\n\u001b[1;32m      2\u001b[0m \u001b[0;34m\u001b[0m\u001b[0m\n\u001b[1;32m      3\u001b[0m \u001b[0mshoe_brands\u001b[0m \u001b[0;34m=\u001b[0m \u001b[0;34m[\u001b[0m\u001b[0;34m'nike'\u001b[0m\u001b[0;34m,\u001b[0m \u001b[0;34m'adidas'\u001b[0m\u001b[0;34m,\u001b[0m \u001b[0;34m'puma'\u001b[0m\u001b[0;34m,\u001b[0m \u001b[0;34m'new Balance'\u001b[0m\u001b[0;34m,\u001b[0m \u001b[0;34m'Under Armuor'\u001b[0m\u001b[0;34m]\u001b[0m\u001b[0;34m\u001b[0m\u001b[0;34m\u001b[0m\u001b[0m\n\u001b[0;32m----> 4\u001b[0;31m \u001b[0mprint\u001b[0m\u001b[0;34m(\u001b[0m\u001b[0mshoe_brands\u001b[0m\u001b[0;34m[\u001b[0m\u001b[0;36m5\u001b[0m\u001b[0;34m]\u001b[0m\u001b[0;34m)\u001b[0m\u001b[0;34m\u001b[0m\u001b[0;34m\u001b[0m\u001b[0m\n\u001b[0m",
            "\u001b[0;31mIndexError\u001b[0m: list index out of range"
          ]
        }
      ]
    },
    {
      "cell_type": "code",
      "source": [
        "#3-11 program fixed\n",
        "\n",
        "shoe_brands = ['nike', 'adidas', 'puma', 'new Balance', 'Under Armuor']\n",
        "print(shoe_brands[4])\n"
      ],
      "metadata": {
        "colab": {
          "base_uri": "https://localhost:8080/"
        },
        "id": "Ln2gJeT1VEgs",
        "outputId": "79b001b5-c043-4a76-db0e-15bfcf3addb8"
      },
      "execution_count": 30,
      "outputs": [
        {
          "output_type": "stream",
          "name": "stdout",
          "text": [
            "Under Armuor\n"
          ]
        }
      ]
    }
  ]
}