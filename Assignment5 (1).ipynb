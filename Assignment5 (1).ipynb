{
  "nbformat": 4,
  "nbformat_minor": 0,
  "metadata": {
    "colab": {
      "provenance": []
    },
    "kernelspec": {
      "name": "python3",
      "display_name": "Python 3"
    },
    "language_info": {
      "name": "python"
    }
  },
  "cells": [
    {
      "cell_type": "code",
      "execution_count": null,
      "metadata": {
        "colab": {
          "base_uri": "https://localhost:8080/"
        },
        "id": "M0S8BwazYlS-",
        "outputId": "87685de8-2919-4121-e099-0ab768f22427"
      },
      "outputs": [
        {
          "output_type": "stream",
          "name": "stdout",
          "text": [
            "I like Cheese pizza.\n",
            "I like Vodka pizza.\n",
            "I like Pepperoni pizza.\n",
            "\n",
            "Cheese pizza will always be in my top 3 pizza choices because it is an original.\n",
            "A vodka sauce slice is easily in my top 3 because I am a huge fan of the sauce,\n",
            "you need to get this slice at the right place though!\n",
            "Pepperoni is another classic, but just adds so much flavor.\n",
            "\n",
            "I really love pizza.\n"
          ]
        }
      ],
      "source": [
        "#4-1\n",
        "favorite_pizza = ['Cheese', 'Vodka', 'Pepperoni']\n",
        "\n",
        "for pizza in favorite_pizza:\n",
        "  print(f'I like {pizza} pizza.')\n",
        "\n",
        "print('\\nCheese pizza will always be in my top 3 pizza choices because it is an original.')\n",
        "print('A vodka sauce slice is easily in my top 3 because I am a huge fan of the sauce,\\nyou need to get this slice at the right place though!')\n",
        "print('Pepperoni is another classic, but just adds so much flavor.')\n",
        "\n",
        "print('\\nI really love pizza.')"
      ]
    },
    {
      "cell_type": "code",
      "source": [
        "#4-2\n",
        "\n",
        "favorite_animals = ['Dogs', 'Tigers', 'Elephants']\n",
        "\n",
        "for animals in favorite_animals:\n",
        "  print(f'{animals} really love the outdoors.')\n",
        "\n",
        "print('\\nThese animals love the outdoors, and all use four legs to walk.')\n"
      ],
      "metadata": {
        "colab": {
          "base_uri": "https://localhost:8080/"
        },
        "id": "SP-N3EEkcl3C",
        "outputId": "c51f53c3-2d5e-413a-c322-6313ebf6e98d"
      },
      "execution_count": null,
      "outputs": [
        {
          "output_type": "stream",
          "name": "stdout",
          "text": [
            "Dogs really love the outdoors.\n",
            "Tigers really love the outdoors.\n",
            "Elephants really love the outdoors.\n",
            "\n",
            "These animals love the outdoors, and all use four legs to walk.\n"
          ]
        }
      ]
    },
    {
      "cell_type": "code",
      "source": [
        "#4-3\n",
        "\n",
        "for value in range(1,21):\n",
        "  print(value)\n"
      ],
      "metadata": {
        "colab": {
          "base_uri": "https://localhost:8080/"
        },
        "id": "mb5Tk2GtenHE",
        "outputId": "047e26f8-7277-4afa-93a9-8717a513b919"
      },
      "execution_count": null,
      "outputs": [
        {
          "output_type": "stream",
          "name": "stdout",
          "text": [
            "1\n",
            "2\n",
            "3\n",
            "4\n",
            "5\n",
            "6\n",
            "7\n",
            "8\n",
            "9\n",
            "10\n",
            "11\n",
            "12\n",
            "13\n",
            "14\n",
            "15\n",
            "16\n",
            "17\n",
            "18\n",
            "19\n",
            "20\n"
          ]
        }
      ]
    },
    {
      "cell_type": "code",
      "source": [
        "#4-4 (won't run at all gets an error that the IOPub data rate is exceeded.)\n",
        "\n",
        "numbers = list(range(1, 1000001))\n",
        "print(numbers)"
      ],
      "metadata": {
        "colab": {
          "base_uri": "https://localhost:8080/"
        },
        "id": "UCCqu7Anf6kE",
        "outputId": "7f4b997d-2f9c-4694-a457-106de7adc267"
      },
      "execution_count": null,
      "outputs": [
        {
          "output_type": "stream",
          "name": "stderr",
          "text": [
            "IOPub data rate exceeded.\n",
            "The notebook server will temporarily stop sending output\n",
            "to the client in order to avoid crashing it.\n",
            "To change this limit, set the config variable\n",
            "`--NotebookApp.iopub_data_rate_limit`.\n",
            "\n",
            "Current values:\n",
            "NotebookApp.iopub_data_rate_limit=1000000.0 (bytes/sec)\n",
            "NotebookApp.rate_limit_window=3.0 (secs)\n",
            "\n"
          ]
        }
      ]
    },
    {
      "cell_type": "code",
      "source": [
        "#4-5\n",
        "\n",
        "numbers = list(range(1,1000001))\n",
        "min(numbers)\n",
        "print(min(numbers))\n",
        "max(numbers)"
      ],
      "metadata": {
        "colab": {
          "base_uri": "https://localhost:8080/"
        },
        "id": "WThMM3P6g_1f",
        "outputId": "cb51dae5-e868-4399-a079-931634499468"
      },
      "execution_count": null,
      "outputs": [
        {
          "output_type": "stream",
          "name": "stdout",
          "text": [
            "1\n"
          ]
        },
        {
          "output_type": "execute_result",
          "data": {
            "text/plain": [
              "1000000"
            ]
          },
          "metadata": {},
          "execution_count": 54
        }
      ]
    },
    {
      "cell_type": "code",
      "source": [
        "#4-6\n",
        "\n",
        "odd_numbers = list(range(1, 20, 2))\n",
        "for odd_numbers in odd_numbers:\n",
        "  print(odd_numbers)"
      ],
      "metadata": {
        "colab": {
          "base_uri": "https://localhost:8080/"
        },
        "id": "9sHoQagVzKbG",
        "outputId": "8a01d3a3-4fd2-4566-cec5-7707e6c42797"
      },
      "execution_count": null,
      "outputs": [
        {
          "output_type": "stream",
          "name": "stdout",
          "text": [
            "1\n",
            "3\n",
            "5\n",
            "7\n",
            "9\n",
            "11\n",
            "13\n",
            "15\n",
            "17\n",
            "19\n"
          ]
        }
      ]
    },
    {
      "cell_type": "code",
      "source": [
        "#4-7\n",
        "\n",
        "multiples = list(range(3,31,3))\n",
        "for multiples in multiples:\n",
        "  print(multiples)\n"
      ],
      "metadata": {
        "colab": {
          "base_uri": "https://localhost:8080/"
        },
        "id": "I2hGKYzk1vXU",
        "outputId": "6e6654cf-dec5-428b-e8d9-157a5909e6b5"
      },
      "execution_count": null,
      "outputs": [
        {
          "output_type": "stream",
          "name": "stdout",
          "text": [
            "3\n",
            "6\n",
            "9\n",
            "12\n",
            "15\n",
            "18\n",
            "21\n",
            "24\n",
            "27\n",
            "30\n"
          ]
        }
      ]
    },
    {
      "cell_type": "code",
      "source": [
        "#4-8\n",
        "\n",
        "cubed =[number ** 2 for number in range(1, 11)]\n",
        "for cube in cubed:\n",
        "  print(cube)"
      ],
      "metadata": {
        "colab": {
          "base_uri": "https://localhost:8080/"
        },
        "id": "RmaOuX-O4tSs",
        "outputId": "a2fef949-3437-4ede-8a92-71ea861696c3"
      },
      "execution_count": null,
      "outputs": [
        {
          "output_type": "stream",
          "name": "stdout",
          "text": [
            "1\n",
            "4\n",
            "9\n",
            "16\n",
            "25\n",
            "36\n",
            "49\n",
            "64\n",
            "81\n",
            "100\n"
          ]
        }
      ]
    },
    {
      "cell_type": "code",
      "source": [
        "#4-9\n",
        "\n",
        "cubed =[number ** 3 for number in range(1, 11)]\n",
        "\n",
        "for cube in cubed:\n",
        "  print(cube)"
      ],
      "metadata": {
        "colab": {
          "base_uri": "https://localhost:8080/"
        },
        "id": "lViDv6y_etx5",
        "outputId": "8f1844d5-ed69-453b-abe2-002963c43c96"
      },
      "execution_count": null,
      "outputs": [
        {
          "output_type": "stream",
          "name": "stdout",
          "text": [
            "1\n",
            "8\n",
            "27\n",
            "64\n",
            "125\n",
            "216\n",
            "343\n",
            "512\n",
            "729\n",
            "1000\n"
          ]
        }
      ]
    },
    {
      "cell_type": "code",
      "source": [
        "#4-10 // From 4-2 + 1 entry\n",
        "\n",
        "favorite_animals = ['Dogs', 'Tigers', 'Elephants', 'Panda Bear', 'Snake']\n",
        "\n",
        "for animals in favorite_animals:\n",
        "  print(f'{animals} really love the outdoors.\\n')\n",
        "\n",
        "print('\\nThe first three items in the list are:')\n",
        "print(favorite_animals[:3])\n",
        "\n",
        "print('\\nThe middle three items in the list are:')\n",
        "print(favorite_animals[1:4])\n",
        "\n",
        "print('\\nThe last three items in the list are:')\n",
        "print(favorite_animals[-3:])"
      ],
      "metadata": {
        "colab": {
          "base_uri": "https://localhost:8080/"
        },
        "id": "uHSzkH3cfG9R",
        "outputId": "1c033d46-b3a5-4ef6-e277-592a5362369c"
      },
      "execution_count": null,
      "outputs": [
        {
          "output_type": "stream",
          "name": "stdout",
          "text": [
            "Dogs really love the outdoors.\n",
            "\n",
            "Tigers really love the outdoors.\n",
            "\n",
            "Elephants really love the outdoors.\n",
            "\n",
            "Panda Bear really love the outdoors.\n",
            "\n",
            "Snake really love the outdoors.\n",
            "\n",
            "\n",
            "The first three items in the list are:\n",
            "['Dogs', 'Tigers', 'Elephants']\n",
            "\n",
            "The middle three items in the list are:\n",
            "['Tigers', 'Elephants', 'Panda Bear']\n",
            "\n",
            "The last three items in the list are:\n",
            "['Elephants', 'Panda Bear', 'Snake']\n"
          ]
        }
      ]
    },
    {
      "cell_type": "code",
      "source": [
        "#4-11\n",
        "\n",
        "favorite_pizza = ['Cheese', 'Vodka', 'Pepperoni', 'Sicilian']\n",
        "\n",
        "friend_pizzas = ['White', 'BBQ Chicken', 'Pepperoni', 'Buffalo']\n",
        "\n",
        "print('My favorite pizzas are:')\n",
        "for pizza in favorite_pizza:\n",
        "  print(pizza)\n",
        "\n",
        "print('\\nMy friends favorite pizzas are:')\n",
        "for pizza in friend_pizzas:\n",
        "  print(pizza)\n"
      ],
      "metadata": {
        "colab": {
          "base_uri": "https://localhost:8080/"
        },
        "id": "Lb5KKccxhuV3",
        "outputId": "8e0d5a6e-e229-4d02-a453-105a4c271e6a"
      },
      "execution_count": null,
      "outputs": [
        {
          "output_type": "stream",
          "name": "stdout",
          "text": [
            "My favorite pizzas are:\n",
            "Cheese\n",
            "Vodka\n",
            "Pepperoni\n",
            "Sicilian\n",
            "\n",
            "My friends favorite pizzas are:\n",
            "White\n",
            "BBQ Chicken\n",
            "Pepperoni\n",
            "Buffalo\n"
          ]
        }
      ]
    },
    {
      "cell_type": "code",
      "source": [
        "#4-12\n",
        "\n",
        "my_foods = ['pizza', 'falafel', 'carrot cake']\n",
        "friend_foods = my_foods[:]\n",
        "\n",
        "\n",
        "print(\"My favorite foods are:\")\n",
        "for foods in my_foods:\n",
        "  print(foods)\n",
        "\n",
        "print(\"\\nMy friend's favorite foods are:\")\n",
        "for foods in friend_foods:\n",
        "  print(foods)\n"
      ],
      "metadata": {
        "colab": {
          "base_uri": "https://localhost:8080/"
        },
        "id": "SyRXNGvujH-2",
        "outputId": "9233e14f-775e-4979-d3e7-727503b6b197"
      },
      "execution_count": null,
      "outputs": [
        {
          "output_type": "stream",
          "name": "stdout",
          "text": [
            "My favorite foods are:\n",
            "pizza\n",
            "falafel\n",
            "carrot cake\n",
            "\n",
            "My friend's favorite foods are:\n",
            "pizza\n",
            "falafel\n",
            "carrot cake\n"
          ]
        }
      ]
    },
    {
      "cell_type": "code",
      "source": [
        "#4-13\n",
        "\n",
        "restaurant_foods = ('Burgers', 'Pizza', 'Chicken Wings', 'Ribs', 'Pulled Pork')\n",
        "\n",
        "print('\\nThis restaurant offers:')\n",
        "for food in restaurant_foods:\n",
        "  print(food)\n",
        "\n",
        "#restaurant_foods[8] = 'Fries'  // The error\n",
        "\n",
        "\n",
        "restaurant_foods = ('Corndog', 'Fries', 'Chicken Wings', 'Ribs', 'Pulled Pork')\n",
        "print(restaurant_foods)\n"
      ],
      "metadata": {
        "colab": {
          "base_uri": "https://localhost:8080/"
        },
        "id": "htnxt5_yj7Ho",
        "outputId": "e70f360c-d002-4dac-808a-a9f36ba3574d"
      },
      "execution_count": null,
      "outputs": [
        {
          "output_type": "stream",
          "name": "stdout",
          "text": [
            "\n",
            "This restaurant offers:\n",
            "Burgers\n",
            "Pizza\n",
            "Chicken Wings\n",
            "Ribs\n",
            "Pulled Pork\n",
            "('Corndog', 'Fries', 'Chicken Wings', 'Ribs', 'Pulled Pork')\n"
          ]
        }
      ]
    },
    {
      "cell_type": "code",
      "source": [
        "#4-15\n",
        "#1)\n",
        "\n",
        "cubed =[number ** 3 for number in range(1, 11)]\n",
        "for cube in cubed:\n",
        "    print(cube)\n",
        "\n",
        "#2)\n",
        "\n",
        "favorite_animals = ['Dogs', 'Tigers',\n",
        "                  'Elephants']\n",
        "for animals in favorite_animals:\n",
        "    print(f'\\n{animals} really love the outdoors.')\n",
        "\n",
        "print('\\nThese animals love the outdoors, and all use four legs to walk.\\n')\n",
        "\n",
        "#3\n",
        "\n",
        "\n",
        "for value in range(1,21):\n",
        "  print(value)\n"
      ],
      "metadata": {
        "colab": {
          "base_uri": "https://localhost:8080/"
        },
        "id": "rBY2v1p9n8A4",
        "outputId": "c089163e-7210-47b7-f7d9-722da59f3276"
      },
      "execution_count": null,
      "outputs": [
        {
          "output_type": "stream",
          "name": "stdout",
          "text": [
            "1\n",
            "8\n",
            "27\n",
            "64\n",
            "125\n",
            "216\n",
            "343\n",
            "512\n",
            "729\n",
            "1000\n",
            "\n",
            "Dogs really love the outdoors.\n",
            "\n",
            "Tigers really love the outdoors.\n",
            "\n",
            "Elephants really love the outdoors.\n",
            "\n",
            "These animals love the outdoors, and all use four legs to walk.\n",
            "\n",
            "1\n",
            "2\n",
            "3\n",
            "4\n",
            "5\n",
            "6\n",
            "7\n",
            "8\n",
            "9\n",
            "10\n",
            "11\n",
            "12\n",
            "13\n",
            "14\n",
            "15\n",
            "16\n",
            "17\n",
            "18\n",
            "19\n",
            "20\n"
          ]
        }
      ]
    },
    {
      "cell_type": "code",
      "source": [
        "#Factorials posted on Brightspace\n",
        "\n",
        "def factorial(n):\n",
        "    my_list = list(range(1, n + 1))\n",
        "\n",
        "    product = 1\n",
        "\n",
        "    for x in my_list:\n",
        "        product = product * x\n",
        "\n",
        "    return product\n",
        "\n",
        "def special_factorial(n):\n",
        "    my_list = list(range(1, n + 1))\n",
        "\n",
        "    if 4 in my_list:\n",
        "        my_list.remove(4)\n",
        "    if 13 in my_list:\n",
        "        my_list.remove(13)\n",
        "    if 22 in my_list:\n",
        "        my_list.remove(22)\n",
        "\n",
        "    product = 1\n",
        "\n",
        "    for x in my_list:\n",
        "        product = product * x\n",
        "\n",
        "    return product\n",
        "\n",
        "\n",
        "print(\"Factorial of 5:\", factorial(5))\n",
        "print(\"Factorial of 10:\", factorial(10))\n",
        "print(\"Factorial of 20:\", factorial(20))\n",
        "print(\"Factorial of 50:\", factorial(50))\n",
        "\n",
        "\n",
        "print(\"\\nSpecial Factorial of 5:\", special_factorial(5))\n",
        "print(\"Special Factorial of 10:\", special_factorial(10))\n",
        "print(\"Special Factorial of 20:\", special_factorial(20))\n",
        "print(\"Special Factorial of 50:\", special_factorial(50))\n"
      ],
      "metadata": {
        "id": "-9GeX5ZlrDiT",
        "colab": {
          "base_uri": "https://localhost:8080/"
        },
        "outputId": "fbd45742-eba1-4823-c812-ff919a936931"
      },
      "execution_count": 67,
      "outputs": [
        {
          "output_type": "stream",
          "name": "stdout",
          "text": [
            "Factorial of 5: 120\n",
            "Factorial of 10: 3628800\n",
            "Factorial of 20: 2432902008176640000\n",
            "Factorial of 50: 30414093201713378043612608166064768844377641568960512000000000000\n",
            "\n",
            "Special Factorial of 5: 30\n",
            "Special Factorial of 10: 907200\n",
            "Special Factorial of 20: 46786577080320000\n",
            "Special Factorial of 50: 26585745805693512275885146998308364374455980392448000000000000\n"
          ]
        }
      ]
    }
  ]
}