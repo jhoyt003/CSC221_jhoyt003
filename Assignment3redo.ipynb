{
  "nbformat": 4,
  "nbformat_minor": 0,
  "metadata": {
    "colab": {
      "provenance": [],
      "authorship_tag": "ABX9TyMdmanISsuL7KOXOBhfkCCX",
      "include_colab_link": true
    },
    "kernelspec": {
      "name": "python3",
      "display_name": "Python 3"
    },
    "language_info": {
      "name": "python"
    }
  },
  "cells": [
    {
      "cell_type": "markdown",
      "metadata": {
        "id": "view-in-github",
        "colab_type": "text"
      },
      "source": [
        "<a href=\"https://colab.research.google.com/github/jhoyt003/CSC221_jhoyt003/blob/main/Assignment3redo.ipynb\" target=\"_parent\"><img src=\"https://colab.research.google.com/assets/colab-badge.svg\" alt=\"Open In Colab\"/></a>"
      ]
    },
    {
      "cell_type": "code",
      "execution_count": null,
      "metadata": {
        "colab": {
          "base_uri": "https://localhost:8080/"
        },
        "id": "0typ88u_ysXv",
        "outputId": "4c687e16-0931-4b03-de23-d9337de401f2"
      },
      "outputs": [
        {
          "output_type": "stream",
          "name": "stdout",
          "text": [
            "Go Plattsburgh Cardinals\n"
          ]
        }
      ],
      "source": [
        "#TIY 2-1\n",
        "message = \"Go Plattsburgh Cardinals\"\n",
        "\n",
        "print(message)\n"
      ]
    },
    {
      "cell_type": "code",
      "source": [
        "#TIY 2-2\n",
        "message = \"Go Plattsburgh Cardinals\"\n",
        "\n",
        "print(message)\n",
        "\n",
        "message = \"Plattsburgh is the best SUNY school\"\n",
        "\n",
        "print(message)"
      ],
      "metadata": {
        "colab": {
          "base_uri": "https://localhost:8080/"
        },
        "id": "5r7h8aQ_zGDj",
        "outputId": "abf7ad52-3cdb-4e5e-a22e-953d465b2da9"
      },
      "execution_count": null,
      "outputs": [
        {
          "output_type": "stream",
          "name": "stdout",
          "text": [
            "Go Plattsburgh Cardinals\n",
            "Plattsburgh is the best SUNY school\n"
          ]
        }
      ]
    },
    {
      "cell_type": "code",
      "source": [
        "#TIY 2-3\n",
        "name = 'Josh'\n",
        "\n",
        "print(f'Hello, {name}, is python your favorite language?')"
      ],
      "metadata": {
        "colab": {
          "base_uri": "https://localhost:8080/"
        },
        "id": "JKuGQ2ZOzRyX",
        "outputId": "b0342a0b-9210-4812-defc-81ef7d0687a3"
      },
      "execution_count": null,
      "outputs": [
        {
          "output_type": "stream",
          "name": "stdout",
          "text": [
            "Hello, Josh, is python your favorite language?\n"
          ]
        }
      ]
    },
    {
      "cell_type": "code",
      "source": [
        "#TIY 2-4\n",
        "name = 'Josh'\n",
        "\n",
        "print(\"My name in lowercase:\", name.lower())\n",
        "print(\"My name in upercase:\" , name.upper())\n",
        "print(\"My name in title case:\" , name.title())"
      ],
      "metadata": {
        "colab": {
          "base_uri": "https://localhost:8080/"
        },
        "id": "R9JEQjYwzXXw",
        "outputId": "fc4b4087-aed2-4a9e-f6ab-ff66ed8d3768"
      },
      "execution_count": null,
      "outputs": [
        {
          "output_type": "stream",
          "name": "stdout",
          "text": [
            "My name in lowercase: josh\n",
            "My name in upercase: JOSH\n",
            "My name in title case: Josh\n"
          ]
        }
      ]
    },
    {
      "cell_type": "code",
      "source": [
        "#TIY 2-5\n",
        "quote = '\"Get busy living, or get busy dying\"'\n",
        "\n",
        "print(\"Stephen Hawking once said,\" ,quote )"
      ],
      "metadata": {
        "colab": {
          "base_uri": "https://localhost:8080/"
        },
        "id": "Eqvj-cpVzbJ8",
        "outputId": "d785bf74-6a9d-4a08-edce-155154716d6e"
      },
      "execution_count": null,
      "outputs": [
        {
          "output_type": "stream",
          "name": "stdout",
          "text": [
            "Stephen Hawking once said, \"Get busy living, or get busy dying\"\n"
          ]
        }
      ]
    },
    {
      "cell_type": "code",
      "source": [
        "#TIY 2-6\n",
        "quote = \"Get busy living, or get busy dying\"\n",
        "\n",
        "famous_person = 'Stephen King'\n",
        "\n",
        "message = famous_person + \" once said, \" +  quote\n",
        "\n",
        "print(message)"
      ],
      "metadata": {
        "colab": {
          "base_uri": "https://localhost:8080/"
        },
        "id": "lfs--extzgXj",
        "outputId": "42ae4296-26c4-4e1b-b1ad-b84c166eb797"
      },
      "execution_count": null,
      "outputs": [
        {
          "output_type": "stream",
          "name": "stdout",
          "text": [
            "Stephen King once said, Get busy living, or get busy dying\n"
          ]
        }
      ]
    },
    {
      "cell_type": "code",
      "source": [
        "#TIY 2-7\n",
        "name = \"\\t   Josh\\n\"\n",
        "\n",
        "print(\"Name with whitespace:\")\n",
        "print(repr(name))\n",
        "\n",
        "lstrip_name = name.lstrip(\"\\t\\n\")\n",
        "rstrip_name = name.rstrip(\"\\t\\n\")\n",
        "strip_name = name.strip(\"\\t\\n\")\n",
        "\n",
        "print(\"\\nName after lstrip:\")\n",
        "print(repr(lstrip_name))\n",
        "print(\"\\nName after rstrip:\")\n",
        "print(repr(rstrip_name))\n",
        "print(\"\\nName after strip:\")\n",
        "print(repr(strip_name))"
      ],
      "metadata": {
        "colab": {
          "base_uri": "https://localhost:8080/"
        },
        "id": "I8EfyShvzlgv",
        "outputId": "801543d4-a410-4c93-9da6-d3522acc89a8"
      },
      "execution_count": null,
      "outputs": [
        {
          "output_type": "stream",
          "name": "stdout",
          "text": [
            "Name with whitespace:\n",
            "'\\t   Josh\\n'\n",
            "\n",
            "Name after lstrip:\n",
            "'   Josh\\n'\n",
            "\n",
            "Name after rstrip:\n",
            "'\\t   Josh'\n",
            "\n",
            "Name after strip:\n",
            "'   Josh'\n"
          ]
        }
      ]
    },
    {
      "cell_type": "code",
      "source": [
        "#TIY 2-8\n",
        "filename = \"python_notes.txt\"\n",
        "\n",
        "new_filename = filename.removesuffix('.txt')\n",
        "\n",
        "print(new_filename)"
      ],
      "metadata": {
        "colab": {
          "base_uri": "https://localhost:8080/"
        },
        "id": "rtaWdeRAzqwX",
        "outputId": "79ef8065-5606-4267-cf55-dbcdfa4572f0"
      },
      "execution_count": null,
      "outputs": [
        {
          "output_type": "stream",
          "name": "stdout",
          "text": [
            "python_notes\n"
          ]
        }
      ]
    },
    {
      "cell_type": "code",
      "source": [
        "#TIY 2-9\n",
        "print(5+3)\n",
        "print(11-3)\n",
        "print(4*2)\n",
        "print(24/3)"
      ],
      "metadata": {
        "colab": {
          "base_uri": "https://localhost:8080/"
        },
        "id": "DZwX9xidzun8",
        "outputId": "39b4cde3-1963-4ff4-ac6f-2cdaa3572981"
      },
      "execution_count": null,
      "outputs": [
        {
          "output_type": "stream",
          "name": "stdout",
          "text": [
            "8\n",
            "8\n",
            "8\n",
            "8.0\n"
          ]
        }
      ]
    },
    {
      "cell_type": "code",
      "source": [
        "#TIY 2-10\n",
        "favorite_number = 22\n",
        "message = \"I have a few different numbers that I like, but my favorite is\"\n",
        "\n",
        "print(message, favorite_number)"
      ],
      "metadata": {
        "colab": {
          "base_uri": "https://localhost:8080/"
        },
        "id": "4b6ULGBP0HGx",
        "outputId": "4c360f4b-b86b-4eca-fbb3-5e30bedb963b"
      },
      "execution_count": null,
      "outputs": [
        {
          "output_type": "stream",
          "name": "stdout",
          "text": [
            "I have a few different numbers that I like, but my favorite is 22\n"
          ]
        }
      ]
    },
    {
      "cell_type": "code",
      "source": [
        "#TIY 2-11\n",
        "#1\n",
        "#create a variable with your favorite number\n",
        "favorite_number = 22\n",
        "#create a message\n",
        "message = \"I have a few different numbers that I like, but my favorite is\"\n",
        "#print the message with favorite_number at the end\n",
        "print(message, favorite_number)\n",
        "\n",
        "#2\n",
        "#using the 4 operators, do an equation to get 8 for each result\n",
        "#add 2 numbers that equal 8\n",
        "print(5+3)\n",
        "#subtract 2 numbers that equal 8\n",
        "print(11-3)\n",
        "#multiply 2 numbers that equal 8\n",
        "print(4*2)\n",
        "#Divide 2 numbers that equal 8\n",
        "print(24/3)\n"
      ],
      "metadata": {
        "colab": {
          "base_uri": "https://localhost:8080/"
        },
        "id": "Vxzc8_XF0R6x",
        "outputId": "8f302477-1289-4950-ce55-de8cc9747c45"
      },
      "execution_count": null,
      "outputs": [
        {
          "output_type": "stream",
          "name": "stdout",
          "text": [
            "I have a few different numbers that I like, but my favorite is 22\n"
          ]
        }
      ]
    },
    {
      "cell_type": "code",
      "source": [
        "#TIY 2-12\n",
        "import this"
      ],
      "metadata": {
        "id": "VLvEXvts097N"
      },
      "execution_count": 23,
      "outputs": []
    }
  ]
}