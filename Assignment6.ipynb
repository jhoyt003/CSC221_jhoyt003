{
  "nbformat": 4,
  "nbformat_minor": 0,
  "metadata": {
    "colab": {
      "provenance": []
    },
    "kernelspec": {
      "name": "python3",
      "display_name": "Python 3"
    },
    "language_info": {
      "name": "python"
    }
  },
  "cells": [
    {
      "cell_type": "code",
      "execution_count": null,
      "metadata": {
        "colab": {
          "base_uri": "https://localhost:8080/"
        },
        "id": "6675ZuZN5-4n",
        "outputId": "e456a5b5-07cd-4557-d712-1ee85cadb333"
      },
      "outputs": [
        {
          "output_type": "stream",
          "name": "stdout",
          "text": [
            "Is the food 'Pizza'? I predict True.\n",
            "True\n",
            "\n",
            "Does pizza equal 'Fries'?) I predict False.\n",
            "False\n",
            "\n",
            "Is Pizza a string? I predict True.\n",
            "True\n",
            "\n",
            "Does Pizza start with 'Pi'? I predict True.\n",
            "True\n",
            "\n",
            "Is there an 'a' in food? I predict True.\n",
            "True\n",
            "\n",
            "Does it end with 'a'? I predict True.\n",
            "True\n",
            "\n",
            "Is the length of pizza 6? I predict False.\n",
            "False\n",
            "\n",
            "Is Pizza an integer? I predict False.\n",
            "False\n",
            "\n",
            "Does Pizza'Bu'? I predict False.\n",
            "False\n",
            "\n",
            "Does Pizza end with 'Bu'? I predict False.\n",
            "False\n"
          ]
        }
      ],
      "source": [
        "#5-1\n",
        "food = 'Pizza'\n",
        "print(\"Is the food 'Pizza'? I predict True.\")\n",
        "print(food == 'Pizza')\n",
        "\n",
        "print(\"\\nDoes pizza equal 'Fries'?) I predict False.\")\n",
        "print(food == 'Fries')\n",
        "\n",
        "print(f\"\\nIs Pizza a string? I predict True.\")\n",
        "print(type(food) == str)\n",
        "\n",
        "print(\"\\nDoes Pizza start with 'Pi'? I predict True.\")\n",
        "print(food.startswith('Pi'))\n",
        "\n",
        "print(\"\\nIs there an 'a' in food? I predict True.\")\n",
        "print('a' in food)\n",
        "\n",
        "print(\"\\nDoes it end with 'a'? I predict True.\")\n",
        "print('a'in food)\n",
        "\n",
        "print(\"\\nIs the length of pizza 6? I predict False.\")\n",
        "print(len(food) == 6)\n",
        "\n",
        "print(f\"\\nIs Pizza an integer? I predict False.\")\n",
        "print(type(food) == int)\n",
        "\n",
        "print(\"\\nDoes Pizza'Bu'? I predict False.\")\n",
        "print(food.startswith('Bu'))\n",
        "\n",
        "print(\"\\nDoes Pizza end with 'Bu'? I predict False.\")\n",
        "print(food.endswith('Bu'))\n"
      ]
    },
    {
      "cell_type": "code",
      "source": [
        "#5-2\n",
        "\n",
        "food = 'Pizza'\n",
        "print(\"Does food equal 'Pizza'? I predict True.\")\n",
        "print(food == 'Pizza')\n",
        "\n",
        "print(\"\\nDoes food equal 'Pasta'? I predict True.\")\n",
        "print(food == 'Pasta')\n",
        "\n",
        "print(\"\\nIs 'Pizza' uppercase? I predict True.\")\n",
        "print(food.upper() == 'PIZZA')\n",
        "\n",
        "print(\"\\nIs 'Pizza' lowercase? I predict True.\")\n",
        "print(food.lower() == 'PIZZA')\n",
        "\n",
        "cars = 3\n",
        "\n",
        "print(\"\\nDoes cars have 3 cars in it? I predict True\")\n",
        "print(cars == 3)\n",
        "\n",
        "print(\"\\nDoes cars have 5 cars in it? I predict False\")\n",
        "print(cars != 3)\n",
        "\n",
        "print(\"\\nIs the quantity of cars more than 2? I predict True\")\n",
        "print(cars > 2)\n",
        "\n",
        "print(\"\\nIs the quantity of cars less than 8? I predict True\")\n",
        "print(cars < 8)\n",
        "\n",
        "print(\"\\nIs the quantity of cars less than or equal to 8? I predict True\")\n",
        "print(cars <= 8)\n",
        "\n",
        "print(\"\\nIs the quantity of cars more than or equal to 2? I predict True\")\n",
        "print(cars >= 2)\n",
        "\n",
        "\n",
        "basketball = True\n",
        "soccer = False\n",
        "\n",
        "print(\"\\nIs basketball and soccer? I predict True\")\n",
        "print(basketball and soccer)\n",
        "\n",
        "print(\"\\nIs basketball or soccer? I predict True\")\n",
        "print(basketball or soccer)\n",
        "\n",
        "list = ['Desk', 'Pencil', 'Paper', 'Lamp']\n",
        "\n",
        "print(\"\\nIs 'Chair' in your list?\")\n",
        "print('Chair' in list)\n",
        "\n",
        "print(\"\\nIs 'Chair' in your list?\")\n",
        "print('Chair' in list)\n",
        "\n",
        "print(\"\\nIs 'Chair' in your list?\")\n",
        "print('Chair' not in list)\n"
      ],
      "metadata": {
        "colab": {
          "base_uri": "https://localhost:8080/"
        },
        "id": "p9O4y-SsxGK5",
        "outputId": "e56fdc6c-e351-42a4-d6f4-94fa3de306d2"
      },
      "execution_count": null,
      "outputs": [
        {
          "output_type": "stream",
          "name": "stdout",
          "text": [
            "Does food equal 'Pizza'? I predict True.\n",
            "True\n",
            "\n",
            "Does food equal 'Pasta'? I predict True.\n",
            "False\n",
            "\n",
            "Is 'Pizza' uppercase? I predict True.\n",
            "True\n",
            "\n",
            "Is 'Pizza' lowercase? I predict True.\n",
            "False\n",
            "\n",
            "Does cars have 3 cars in it? I predict True\n",
            "True\n",
            "\n",
            "Does cars have 5 cars in it? I predict False\n",
            "False\n",
            "\n",
            "Is the quantity of cars more than 2? I predict True\n",
            "True\n",
            "\n",
            "Is the quantity of cars less than 8? I predict True\n",
            "True\n",
            "\n",
            "Is the quantity of cars less than or equal to 8? I predict True\n",
            "True\n",
            "\n",
            "Is the quantity of cars more than or equal to 2? I predict True\n",
            "True\n",
            "\n",
            "Is basketball and soccer? I predict True\n",
            "False\n",
            "\n",
            "Is basketball or soccer? I predict True\n",
            "True\n",
            "\n",
            "Is 'Chair' in your list?\n",
            "False\n",
            "\n",
            "Is 'Chair' in your list?\n",
            "False\n",
            "\n",
            "Is 'Chair' in your list?\n",
            "True\n"
          ]
        }
      ]
    },
    {
      "cell_type": "code",
      "source": [
        "#5-3\n",
        "\n",
        "alien_color = 'green'\n",
        "\n",
        "if alien_color == 'green':\n",
        "  print('You just earned 5 points.')\n",
        "\n",
        "\n",
        "\n",
        "alien_color = 'green'\n",
        "\n",
        "if alien_color == 'red':\n",
        "  print('\\nYou just earned 5 points.')"
      ],
      "metadata": {
        "colab": {
          "base_uri": "https://localhost:8080/"
        },
        "id": "klJmMKyw8Y4M",
        "outputId": "8242ecdb-12d4-46fd-ff83-36828500ae27"
      },
      "execution_count": null,
      "outputs": [
        {
          "output_type": "stream",
          "name": "stdout",
          "text": [
            "You just earned 5 points.\n"
          ]
        }
      ]
    },
    {
      "cell_type": "code",
      "source": [
        "#5-4\n",
        "\n",
        "alien_color = 'green'\n",
        "\n",
        "if alien_color == 'green':\n",
        "  print('You just earned 5 points.')\n",
        "else:\n",
        "  print('You just earned 10 points.')\n",
        "\n",
        "alien_color = 'yellow'\n",
        "\n",
        "if alien_color == 'green':\n",
        "  print('You just earned 5 points.')\n",
        "else:\n",
        "  print('You just earned 10 points.')"
      ],
      "metadata": {
        "colab": {
          "base_uri": "https://localhost:8080/"
        },
        "id": "2RD9Ah-k-yz3",
        "outputId": "ac91b9bf-fdff-4706-85ab-95aa3030603e"
      },
      "execution_count": null,
      "outputs": [
        {
          "output_type": "stream",
          "name": "stdout",
          "text": [
            "You just earned 5 points.\n",
            "You just earned 10 points.\n"
          ]
        }
      ]
    },
    {
      "cell_type": "code",
      "source": [
        "#5-5\n",
        "\n",
        "alien_color = 'green'\n",
        "\n",
        "if alien_color == 'green':\n",
        "  print('You just earned 5 points.')\n",
        "elif alien_color == 'yellow':\n",
        "  print('You just earned 10 points.')\n",
        "elif alien_color == 'red':\n",
        "  print('You just earned 15 points.')\n",
        "\n",
        "\n",
        "alien_color = 'yellow'\n",
        "\n",
        "if alien_color == 'green':\n",
        "  print('You just earned 5 points.')\n",
        "elif alien_color == 'yellow':\n",
        "  print('You just earned 10 points.')\n",
        "elif alien_color == 'red':\n",
        "  print('You just earned 15 points.')\n",
        "\n",
        "\n",
        "\n",
        "\n",
        "alien_color = 'red'\n",
        "\n",
        "if alien_color == 'green':\n",
        "  print('You just earned 5 points.')\n",
        "elif alien_color == 'yellow':\n",
        "  print('You just earned 10 points.')\n",
        "elif alien_color == 'red':\n",
        "  print('You just earned 15 points.')"
      ],
      "metadata": {
        "colab": {
          "base_uri": "https://localhost:8080/"
        },
        "id": "0ph3cx-z_xs3",
        "outputId": "59c18d6d-34e3-41a5-c942-8c346d7bc589"
      },
      "execution_count": null,
      "outputs": [
        {
          "output_type": "stream",
          "name": "stdout",
          "text": [
            "You just earned 5 points.\n",
            "You just earned 10 points.\n",
            "You just earned 15 points.\n"
          ]
        }
      ]
    },
    {
      "cell_type": "code",
      "source": [
        "#5-6\n",
        "\n",
        "age = 21\n",
        "\n",
        "if age < 2:\n",
        "  print(\"This person is a baby.\")\n",
        "elif age < 4:\n",
        "  print('This person is a toddler.')\n",
        "elif age < 13:\n",
        "  print('This person is a kid.')\n",
        "elif age < 20:\n",
        "  print('This person is a teenager.')\n",
        "elif age < 65:\n",
        "  print('This person is an adult.')\n",
        "else:\n",
        "  print('This person is an elder.')\n"
      ],
      "metadata": {
        "colab": {
          "base_uri": "https://localhost:8080/"
        },
        "id": "_QRnTLW9A3I_",
        "outputId": "af7b35fd-01cd-4004-ee42-14457e41e525"
      },
      "execution_count": null,
      "outputs": [
        {
          "output_type": "stream",
          "name": "stdout",
          "text": [
            "This person is an adult.\n"
          ]
        }
      ]
    },
    {
      "cell_type": "code",
      "source": [
        "#5-7\n",
        "\n",
        "favorite_fruits = ['apples', 'blackberries', 'oranges']\n",
        "\n",
        "if 'apples' in favorite_fruits:\n",
        "    print(\"You really like apples!\")\n",
        "\n",
        "if 'blackberries' in favorite_fruits:\n",
        "    print(\"You really like blackberries!\")\n",
        "\n",
        "if 'pears' in favorite_fruits:\n",
        "    print(\"You really like pears!\")\n",
        "\n",
        "if 'oranges' in favorite_fruits:\n",
        "    print(\"You really like oranges!\")\n",
        "\n",
        "if 'grapes' in favorite_fruits:\n",
        "    print(\"You really like grapes!\")"
      ],
      "metadata": {
        "colab": {
          "base_uri": "https://localhost:8080/"
        },
        "id": "lKkJf7BjCHS5",
        "outputId": "3aa16cb5-576c-4492-e25f-7ccec947d530"
      },
      "execution_count": null,
      "outputs": [
        {
          "output_type": "stream",
          "name": "stdout",
          "text": [
            "You really like apples!\n",
            "You really like blackberries!\n",
            "You really like oranges!\n"
          ]
        }
      ]
    },
    {
      "cell_type": "code",
      "source": [
        "#5-8\n",
        "\n",
        "user_names = ['admin', 'Josh', 'Zach', 'Dylan', 'Nick']\n",
        "\n",
        "for username in user_names:\n",
        "  if username == 'admin':\n",
        "    print(f\"Hello {username}, would you like to see a status report?\")\n",
        "  else:\n",
        "    print(f\"Hello {username}, thank you for logging in again.\")"
      ],
      "metadata": {
        "colab": {
          "base_uri": "https://localhost:8080/"
        },
        "id": "y3fKSGGNJBgF",
        "outputId": "6b9f01c5-0ccc-4fef-9df5-9d2fda3dcd77"
      },
      "execution_count": null,
      "outputs": [
        {
          "output_type": "stream",
          "name": "stdout",
          "text": [
            "Hello admin, would you like to see a status report?\n",
            "Hello Josh, thank you for logging in again.\n",
            "Hello Zach, thank you for logging in again.\n",
            "Hello Dylan, thank you for logging in again.\n",
            "Hello Nick, thank you for logging in again.\n"
          ]
        }
      ]
    },
    {
      "cell_type": "code",
      "source": [
        "#5-9\n",
        "\n",
        "user_names = ['admin', 'Josh', 'Zach', 'Dylan', 'Nick']\n",
        "\n",
        "if user_names:\n",
        "  for username in user_names:\n",
        "    if username == 'admin':\n",
        "      print(f\"Hello {username}, would you like to see a status report?\")\n",
        "    else:\n",
        "      print(f\"Hello {username}, thank you for logging in again.\")\n",
        "else:\n",
        "  print('We need to find some users!')"
      ],
      "metadata": {
        "colab": {
          "base_uri": "https://localhost:8080/"
        },
        "id": "DsMUy6OnJ3wg",
        "outputId": "94542620-663a-4750-80c9-1e244469a698"
      },
      "execution_count": null,
      "outputs": [
        {
          "output_type": "stream",
          "name": "stdout",
          "text": [
            "We need to find some users\n"
          ]
        }
      ]
    },
    {
      "cell_type": "code",
      "source": [
        "#5-10\n",
        "\n",
        "\n",
        "current_users = ['Ally', 'Ben', 'Josh', 'David', 'Ryan']\n",
        "\n",
        "new_users = ['Ben', 'Abe', 'Angel', 'Ally', 'John']\n",
        "\n",
        "\n",
        "lowercase_current_users = [user.lower() for user in current_users]\n",
        "\n",
        "for new_user in new_users:\n",
        "    if new_user.lower() in lowercase_current_users:\n",
        "        print(f\"Sorry, the username '{new_user}' is already taken. Please enter a new username.\")\n",
        "    else:\n",
        "        print(f\"The username '{new_user}' is available.\")\n",
        "\n"
      ],
      "metadata": {
        "colab": {
          "base_uri": "https://localhost:8080/"
        },
        "id": "7YK3yL7YLR3W",
        "outputId": "287104ed-64fc-49c3-b0bd-abf267c9b02f"
      },
      "execution_count": null,
      "outputs": [
        {
          "output_type": "stream",
          "name": "stdout",
          "text": [
            "Sorry, the username 'Ben' is already taken. Please enter a new username.\n",
            "The username 'Abe' is available.\n",
            "The username 'Angel' is available.\n",
            "Sorry, the username 'Ally' is already taken. Please enter a new username.\n",
            "The username 'John' is available.\n"
          ]
        }
      ]
    },
    {
      "cell_type": "code",
      "source": [
        "#5-11\n",
        "\n",
        "numbers = ['1', '2', '3', '4', '5', '6', '7', '8', '9', '10']\n",
        "\n",
        "\n",
        "for number in numbers:\n",
        "  number = int(number)\n",
        "\n",
        "  if number == 1:\n",
        "      ordinal = \"st\"\n",
        "  elif number == 2:\n",
        "      ordinal = \"nd\"\n",
        "  elif number == 3:\n",
        "      ordinal = \"rd\"\n",
        "  else:\n",
        "      ordinal = \"th\"\n",
        "\n",
        "print(f\"{number}{ordinal}\")\n",
        "\n",
        "\n",
        "\n"
      ],
      "metadata": {
        "id": "9syARKkcOD0R",
        "colab": {
          "base_uri": "https://localhost:8080/"
        },
        "outputId": "4c8b57a9-a236-47be-9369-c4ae20a60865"
      },
      "execution_count": null,
      "outputs": [
        {
          "output_type": "stream",
          "name": "stdout",
          "text": [
            "10th\n"
          ]
        }
      ]
    },
    {
      "cell_type": "code",
      "source": [
        "#5-13\n",
        "\n",
        "#For this problem, I was not getting that many good ideas. I then thought of something that\n",
        "#would be useful for me and my life. Then I came up with the idea to make a simple program\n",
        "#that I can use to help with time management and specifically related to assignments from\n",
        "#my classes. It tells me based on how important my assignment is and then what ttime I would need to start\n",
        "\n",
        "def assign_numbers():\n",
        "    try:\n",
        "        numbers = int(input(\"Please enter a number for how urgent it is to complete this assignment \\nby the end of the day (1 for high, 2 for medium, 3 for low): \"))\n",
        "\n",
        "\n",
        "        if numbers in range(1, 4):\n",
        "            return numbers\n",
        "        else:\n",
        "            print(\"Invalid priority. Please enter a number between 1 and 3.\")\n",
        "            return assign_numbers()\n",
        "    except ValueError:\n",
        "        print(\"Invalid input. Please enter a number between 1 and 3.\")\n",
        "\n",
        "\n",
        "high = (\"You need to start this asssignment no later than 10am,\\nas this is a very complex assignment but needs to be \\ncompleted by tonight. This will require 5 hours at least!\")\n",
        "medium = (\"You need to start this assignment no later\\nthan 12:30pm, this assignment is a medium difficulty but needs to be completed by \\ntonight. This will require 3.5 hours at least!\")\n",
        "low = (\"You need to start this asssignment\\nno later than 4pmm, this assignment shouldn't be too hard but needs to be completed \\nby tonight. This will require 2 hours at least!\")\n",
        "\n",
        "def time_to_start_workload(urgency):\n",
        "    if urgency == 1:\n",
        "        return high\n",
        "    elif urgency == 2:\n",
        "        return medium\n",
        "    elif urgency == 3:\n",
        "        return low\n",
        "\n",
        "\n",
        "\n",
        "def main():\n",
        "\n",
        "    assignment_of_numbers = assign_numbers()\n",
        "\n",
        "    response = time_to_start_workload(assignment_of_numbers)\n",
        "\n",
        "    print(response)\n",
        "\n",
        "\n",
        "main()\n",
        "\n",
        "\n",
        "\n"
      ],
      "metadata": {
        "id": "QG-ruHnTJrqO"
      },
      "execution_count": null,
      "outputs": []
    }
  ]
}