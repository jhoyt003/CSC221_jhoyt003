{
  "nbformat": 4,
  "nbformat_minor": 0,
  "metadata": {
    "colab": {
      "provenance": []
    },
    "kernelspec": {
      "name": "python3",
      "display_name": "Python 3"
    },
    "language_info": {
      "name": "python"
    }
  },
  "cells": [
    {
      "cell_type": "code",
      "execution_count": null,
      "metadata": {
        "colab": {
          "base_uri": "https://localhost:8080/"
        },
        "id": "0bvUtDCNpres",
        "outputId": "45202c80-d9ba-4d9d-93b8-eb8742c2dfd7"
      },
      "outputs": [
        {
          "output_type": "stream",
          "name": "stdout",
          "text": [
            "Go Plattsburgh Cardinals\n"
          ]
        }
      ],
      "source": [
        "message = \"Go Plattsburgh Cardinals\"\n",
        "\n",
        "print(message)"
      ]
    },
    {
      "cell_type": "code",
      "source": [
        "message = \"Go Plattsburgh Cardinals\"\n",
        "\n",
        "print(message)\n",
        "\n",
        "message = \"Plattsburgh is the best SUNY school\"\n",
        "\n",
        "print(message)"
      ],
      "metadata": {
        "colab": {
          "base_uri": "https://localhost:8080/"
        },
        "id": "XbTLsIcJqnnJ",
        "outputId": "0b059022-9d03-4df9-d314-465ec68e2f65"
      },
      "execution_count": null,
      "outputs": [
        {
          "output_type": "stream",
          "name": "stdout",
          "text": [
            "Go Plattsburgh Cardinals\n",
            "Plattsburgh is the best SUNY school\n"
          ]
        }
      ]
    },
    {
      "cell_type": "code",
      "source": [
        "name = 'Josh'\n",
        "\n",
        "print(f'Hello, {name}, is python your favorite language?')"
      ],
      "metadata": {
        "colab": {
          "base_uri": "https://localhost:8080/"
        },
        "id": "CYgVbgPOrZ-J",
        "outputId": "968f45f0-3ebb-46a7-8b84-03403a501bdf"
      },
      "execution_count": null,
      "outputs": [
        {
          "output_type": "stream",
          "name": "stdout",
          "text": [
            "Hello, Josh, is python your favorite language?\n"
          ]
        }
      ]
    },
    {
      "cell_type": "code",
      "source": [
        "name = 'Josh'\n",
        "\n",
        "print(\"My name in lowercase:\", name.lower())\n",
        "print(\"My name in upercase:\" , name.upper())\n",
        "print(\"My name in title case:\" , name.title())"
      ],
      "metadata": {
        "colab": {
          "base_uri": "https://localhost:8080/"
        },
        "id": "lzG_oOAQruuy",
        "outputId": "9e72193f-809a-4330-d0af-fd9679bd2ecc"
      },
      "execution_count": null,
      "outputs": [
        {
          "output_type": "stream",
          "name": "stdout",
          "text": [
            "My name in lowercase: josh\n",
            "My name in upercase: JOSH\n",
            "My name in title case: Josh\n"
          ]
        }
      ]
    },
    {
      "cell_type": "code",
      "source": [
        "quote = '\"Get busy living, or get busy dying\"'\n",
        "\n",
        "print(\"Stephen Hawking once said,\" ,quote )"
      ],
      "metadata": {
        "id": "GnS2IgU4stO0",
        "colab": {
          "base_uri": "https://localhost:8080/"
        },
        "outputId": "09622d96-f793-4861-f79c-5ac15f3fe4c9"
      },
      "execution_count": 40,
      "outputs": [
        {
          "output_type": "stream",
          "name": "stdout",
          "text": [
            "Stephen Hawking once said, \"Get busy living, or get busy dying\"\n"
          ]
        }
      ]
    },
    {
      "cell_type": "code",
      "source": [
        "quote = \"Get busy living, or get busy dying\"\n",
        "\n",
        "famous_person = 'Stephen King'\n",
        "\n",
        "message = famous_person + \" once said, \" +  quote\n",
        "\n",
        "print(message)"
      ],
      "metadata": {
        "id": "CFKzrMghs2W4",
        "colab": {
          "base_uri": "https://localhost:8080/"
        },
        "outputId": "411e7e90-0994-4dd8-fac8-a2357c0b05ec"
      },
      "execution_count": 75,
      "outputs": [
        {
          "output_type": "stream",
          "name": "stdout",
          "text": [
            "Stephen King once said, Get busy living, or get busy dying\n"
          ]
        }
      ]
    },
    {
      "cell_type": "code",
      "source": [
        "name = \"\\t   Josh\\n\"\n",
        "\n",
        "print(\"Name with whitespace:\")\n",
        "print(repr(name))\n",
        "\n",
        "lstrip_name = name.lstrip(\"\\t\\n\")\n",
        "rstrip_name = name.rstrip(\"\\t\\n\")\n",
        "strip_name = name.strip(\"\\t\\n\")\n",
        "\n",
        "print(\"\\nName after lstrip:\")\n",
        "print(repr(lstrip_name))\n",
        "print(\"\\nName after rstrip:\")\n",
        "print(repr(rstrip_name))\n",
        "print(\"\\nName after strip:\")\n",
        "print(repr(strip_name))"
      ],
      "metadata": {
        "colab": {
          "base_uri": "https://localhost:8080/"
        },
        "id": "0VQXKmO_VL0q",
        "outputId": "7c6d6695-2adb-49b7-f3c9-3e12f09053c0"
      },
      "execution_count": 77,
      "outputs": [
        {
          "output_type": "stream",
          "name": "stdout",
          "text": [
            "Name with whitespace:\n",
            "'\\t   Josh\\n'\n",
            "\n",
            "Name after lstrip:\n",
            "'   Josh\\n'\n",
            "\n",
            "Name after rstrip:\n",
            "'\\t   Josh'\n",
            "\n",
            "Name after strip:\n",
            "'   Josh'\n"
          ]
        }
      ]
    },
    {
      "cell_type": "code",
      "source": [
        "filename = \"python_notes.txt\"\n",
        "\n",
        "new_filename = filename.removesuffix('.txt')\n",
        "\n",
        "print(new_filename)"
      ],
      "metadata": {
        "colab": {
          "base_uri": "https://localhost:8080/"
        },
        "id": "jhAUOwj4Xs-T",
        "outputId": "bfdba271-115a-4b95-e013-2fdee2257fc9"
      },
      "execution_count": 83,
      "outputs": [
        {
          "output_type": "stream",
          "name": "stdout",
          "text": [
            "python_notes\n"
          ]
        }
      ]
    },
    {
      "cell_type": "code",
      "source": [
        "#for 2-11/ Remember the signs to be able to do things to integers\n",
        "print(5+3)\n",
        "print(11-3)\n",
        "print(4*2)\n",
        "print(24/3)"
      ],
      "metadata": {
        "colab": {
          "base_uri": "https://localhost:8080/"
        },
        "id": "LHWK4DVIY4t9",
        "outputId": "0fbdd995-0c39-423f-d25e-ca713fad383c"
      },
      "execution_count": 87,
      "outputs": [
        {
          "output_type": "stream",
          "name": "stdout",
          "text": [
            "8\n",
            "8\n",
            "8\n",
            "8.0\n"
          ]
        }
      ]
    },
    {
      "cell_type": "code",
      "source": [
        "#for 2-11/ set a variable\n",
        "favorite_number = 22\n",
        "#create a message\n",
        "message = \"I have a few different numbers that I like, but my favorite is\"\n",
        "\n",
        "#print the message with favorite_number at the end\n",
        "print(message, favorite_number)"
      ],
      "metadata": {
        "colab": {
          "base_uri": "https://localhost:8080/"
        },
        "id": "5VOff1ZhZbUc",
        "outputId": "8b08c0fe-edf7-4823-eaac-6feeb13ac6db"
      },
      "execution_count": 103,
      "outputs": [
        {
          "output_type": "stream",
          "name": "stdout",
          "text": [
            "I have a few different numbers that I like, but my favorite is 22\n"
          ]
        }
      ]
    },
    {
      "cell_type": "markdown",
      "source": [],
      "metadata": {
        "id": "D5XkIi5WEqP-"
      }
    },
    {
      "cell_type": "code",
      "source": [
        "import this\n"
      ],
      "metadata": {
        "colab": {
          "base_uri": "https://localhost:8080/"
        },
        "id": "JeDFvwqIaskK",
        "outputId": "787a470a-a363-443d-c881-60e9e5c394f8"
      },
      "execution_count": 104,
      "outputs": [
        {
          "output_type": "stream",
          "name": "stdout",
          "text": [
            "The Zen of Python, by Tim Peters\n",
            "\n",
            "Beautiful is better than ugly.\n",
            "Explicit is better than implicit.\n",
            "Simple is better than complex.\n",
            "Complex is better than complicated.\n",
            "Flat is better than nested.\n",
            "Sparse is better than dense.\n",
            "Readability counts.\n",
            "Special cases aren't special enough to break the rules.\n",
            "Although practicality beats purity.\n",
            "Errors should never pass silently.\n",
            "Unless explicitly silenced.\n",
            "In the face of ambiguity, refuse the temptation to guess.\n",
            "There should be one-- and preferably only one --obvious way to do it.\n",
            "Although that way may not be obvious at first unless you're Dutch.\n",
            "Now is better than never.\n",
            "Although never is often better than *right* now.\n",
            "If the implementation is hard to explain, it's a bad idea.\n",
            "If the implementation is easy to explain, it may be a good idea.\n",
            "Namespaces are one honking great idea -- let's do more of those!\n"
          ]
        }
      ]
    }
  ]
}