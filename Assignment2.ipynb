{
  "nbformat": 4,
  "nbformat_minor": 0,
  "metadata": {
    "colab": {
      "provenance": []
    },
    "kernelspec": {
      "name": "python3",
      "display_name": "Python 3"
    },
    "language_info": {
      "name": "python"
    }
  },
  "cells": [
    {
      "cell_type": "code",
      "execution_count": 1,
      "metadata": {
        "colab": {
          "base_uri": "https://localhost:8080/"
        },
        "id": "DGtY4g-umLQV",
        "outputId": "b4ccc96b-9418-4130-b5be-76ce81225aa1"
      },
      "outputs": [
        {
          "output_type": "stream",
          "name": "stdout",
          "text": [
            "13 21.6 34.6\n"
          ]
        }
      ],
      "source": [
        "a = 13\n",
        "b = 21.6\n",
        "\n",
        "total = a + b\n",
        "\n",
        "print(a, b, total)\n"
      ]
    }
  ]
}