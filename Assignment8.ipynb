{
  "nbformat": 4,
  "nbformat_minor": 0,
  "metadata": {
    "colab": {
      "provenance": [],
      "authorship_tag": "ABX9TyPJ+uRddZTEpNApMwDGCDkt",
      "include_colab_link": true
    },
    "kernelspec": {
      "name": "python3",
      "display_name": "Python 3"
    },
    "language_info": {
      "name": "python"
    }
  },
  "cells": [
    {
      "cell_type": "markdown",
      "metadata": {
        "id": "view-in-github",
        "colab_type": "text"
      },
      "source": [
        "<a href=\"https://colab.research.google.com/github/jhoyt003/CSC221_jhoyt003/blob/main/Assignment8.ipynb\" target=\"_parent\"><img src=\"https://colab.research.google.com/assets/colab-badge.svg\" alt=\"Open In Colab\"/></a>"
      ]
    },
    {
      "cell_type": "code",
      "execution_count": 2,
      "metadata": {
        "id": "O6gKfLOziubZ",
        "colab": {
          "base_uri": "https://localhost:8080/"
        },
        "outputId": "d0dd7ae9-c622-4d54-d9f7-4f38252deac6"
      },
      "outputs": [
        {
          "output_type": "stream",
          "name": "stdout",
          "text": [
            "One of my favorite books is Alice in Wonderland.\n",
            "One of my favorite books is I Will Teach You to be Rich.\n"
          ]
        }
      ],
      "source": [
        "#TIY 8-2\n",
        "\n",
        "def favorite_book(title):\n",
        "    print(f\"One of my favorite books is {title}.\")\n",
        "\n",
        "favorite_book(\"Alice in Wonderland\")\n",
        "\n",
        "favorite_book (\"I Will Teach You to be Rich\")\n"
      ]
    },
    {
      "cell_type": "code",
      "source": [
        "#TIY 8-3\n",
        "\n",
        "def make_shirt(size, message):\n",
        "    print(f\"Shirt size: {size}, Message: '{message}'\")\n",
        "\n",
        "make_shirt(\"small\", \"The shirt is small and is a Nike shirt.\")\n",
        "\n",
        "make_shirt(\"medium\", \"The shirt is medium and is our most common size that has a football.\")\n",
        "\n",
        "\n",
        "make_shirt(size=\"large\", message=\"The shirt is large and has a design of a dragon on it.\")\n"
      ],
      "metadata": {
        "colab": {
          "base_uri": "https://localhost:8080/"
        },
        "id": "KG3VigshwEaC",
        "outputId": "03539004-2f87-4023-c16c-4f239f43ea5a"
      },
      "execution_count": 6,
      "outputs": [
        {
          "output_type": "stream",
          "name": "stdout",
          "text": [
            "Shirt size: small, Message: 'The shirt is small and is a Nike shirt.'\n",
            "Shirt size: medium, Message: 'The shirt is medium and is our most common size that has a football.'\n",
            "Shirt size: large, Message: 'The shirt is large and has a design of a dragon on it.'\n"
          ]
        }
      ]
    },
    {
      "cell_type": "code",
      "source": [
        "#TIY 8-4\n",
        "\n",
        "def make_shirt(size=\"large\", message=\"I love Python\"):\n",
        "    print(f\"Shirt size: {size}, Message: '{message}'\")\n",
        "\n",
        "make_shirt()\n",
        "\n",
        "make_shirt(size=\"medium\")\n",
        "\n",
        "make_shirt(\"small\", \"The shirt is small and is a Nike shirt.\")"
      ],
      "metadata": {
        "colab": {
          "base_uri": "https://localhost:8080/"
        },
        "id": "XvDvmRQ3ykU3",
        "outputId": "52cd8dcc-08b3-4ce9-dc8a-14cc2865c311"
      },
      "execution_count": 10,
      "outputs": [
        {
          "output_type": "stream",
          "name": "stdout",
          "text": [
            "Shirt size: large, Message: 'I love Python'\n",
            "Shirt size: medium, Message: 'I love Python'\n",
            "Shirt size: small, Message: 'The shirt is small and is a Nike shirt.'\n"
          ]
        }
      ]
    },
    {
      "cell_type": "code",
      "source": [
        "#TIY Question you asked\n",
        "\n",
        "def func8(a, b, c=42):\n",
        "    sum_result = a + b + c\n",
        "    product_result = a * b * c\n",
        "\n",
        "    sorted_numbers = [a, b, c]\n",
        "    sorted_numbers.sort()\n",
        "\n",
        "    return sum_result, product_result, sorted_numbers\n",
        "\n",
        "print(func8(1,2))\n",
        "print(func8(1,2,3))\n",
        "print(func8(1,2,4))\n",
        "print(func8(4,5))\n",
        "print(func8(10,15))\n",
        "print(func8(30,25))\n",
        "print(func8(10,15,272))\n",
        "\n",
        "#if there is not a third number provided, the last number will automattically be 42.\n"
      ],
      "metadata": {
        "colab": {
          "base_uri": "https://localhost:8080/"
        },
        "id": "oXKrg3n-zuzq",
        "outputId": "5eee3ac8-4c71-4cc5-c13d-5f58e88f1069"
      },
      "execution_count": 25,
      "outputs": [
        {
          "output_type": "stream",
          "name": "stdout",
          "text": [
            "(45, 84, [1, 2, 42])\n",
            "(6, 6, [1, 2, 3])\n",
            "(7, 8, [1, 2, 4])\n",
            "(51, 840, [4, 5, 42])\n",
            "(67, 6300, [10, 15, 42])\n",
            "(97, 31500, [25, 30, 42])\n",
            "(297, 40800, [10, 15, 272])\n"
          ]
        }
      ]
    }
  ]
}